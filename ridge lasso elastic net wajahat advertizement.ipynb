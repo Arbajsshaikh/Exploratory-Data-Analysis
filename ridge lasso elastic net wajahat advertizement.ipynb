{
 "cells": [
  {
   "cell_type": "code",
   "execution_count": 1,
   "id": "d8b63468",
   "metadata": {},
   "outputs": [],
   "source": [
    "import pandas as pd"
   ]
  },
  {
   "cell_type": "code",
   "execution_count": 2,
   "id": "4a82a4ab",
   "metadata": {},
   "outputs": [
    {
     "data": {
      "text/html": [
       "<div>\n",
       "<style scoped>\n",
       "    .dataframe tbody tr th:only-of-type {\n",
       "        vertical-align: middle;\n",
       "    }\n",
       "\n",
       "    .dataframe tbody tr th {\n",
       "        vertical-align: top;\n",
       "    }\n",
       "\n",
       "    .dataframe thead th {\n",
       "        text-align: right;\n",
       "    }\n",
       "</style>\n",
       "<table border=\"1\" class=\"dataframe\">\n",
       "  <thead>\n",
       "    <tr style=\"text-align: right;\">\n",
       "      <th></th>\n",
       "      <th>TV</th>\n",
       "      <th>Radio</th>\n",
       "      <th>Newspaper</th>\n",
       "      <th>Sales</th>\n",
       "    </tr>\n",
       "  </thead>\n",
       "  <tbody>\n",
       "    <tr>\n",
       "      <th>1</th>\n",
       "      <td>230.1</td>\n",
       "      <td>37.8</td>\n",
       "      <td>69.2</td>\n",
       "      <td>22.1</td>\n",
       "    </tr>\n",
       "    <tr>\n",
       "      <th>2</th>\n",
       "      <td>44.5</td>\n",
       "      <td>39.3</td>\n",
       "      <td>45.1</td>\n",
       "      <td>10.4</td>\n",
       "    </tr>\n",
       "    <tr>\n",
       "      <th>3</th>\n",
       "      <td>17.2</td>\n",
       "      <td>45.9</td>\n",
       "      <td>69.3</td>\n",
       "      <td>9.3</td>\n",
       "    </tr>\n",
       "    <tr>\n",
       "      <th>4</th>\n",
       "      <td>151.5</td>\n",
       "      <td>41.3</td>\n",
       "      <td>58.5</td>\n",
       "      <td>18.5</td>\n",
       "    </tr>\n",
       "    <tr>\n",
       "      <th>5</th>\n",
       "      <td>180.8</td>\n",
       "      <td>10.8</td>\n",
       "      <td>58.4</td>\n",
       "      <td>12.9</td>\n",
       "    </tr>\n",
       "    <tr>\n",
       "      <th>...</th>\n",
       "      <td>...</td>\n",
       "      <td>...</td>\n",
       "      <td>...</td>\n",
       "      <td>...</td>\n",
       "    </tr>\n",
       "    <tr>\n",
       "      <th>196</th>\n",
       "      <td>38.2</td>\n",
       "      <td>3.7</td>\n",
       "      <td>13.8</td>\n",
       "      <td>7.6</td>\n",
       "    </tr>\n",
       "    <tr>\n",
       "      <th>197</th>\n",
       "      <td>94.2</td>\n",
       "      <td>4.9</td>\n",
       "      <td>8.1</td>\n",
       "      <td>9.7</td>\n",
       "    </tr>\n",
       "    <tr>\n",
       "      <th>198</th>\n",
       "      <td>177.0</td>\n",
       "      <td>9.3</td>\n",
       "      <td>6.4</td>\n",
       "      <td>12.8</td>\n",
       "    </tr>\n",
       "    <tr>\n",
       "      <th>199</th>\n",
       "      <td>283.6</td>\n",
       "      <td>42.0</td>\n",
       "      <td>66.2</td>\n",
       "      <td>25.5</td>\n",
       "    </tr>\n",
       "    <tr>\n",
       "      <th>200</th>\n",
       "      <td>232.1</td>\n",
       "      <td>8.6</td>\n",
       "      <td>8.7</td>\n",
       "      <td>13.4</td>\n",
       "    </tr>\n",
       "  </tbody>\n",
       "</table>\n",
       "<p>200 rows × 4 columns</p>\n",
       "</div>"
      ],
      "text/plain": [
       "        TV  Radio  Newspaper  Sales\n",
       "1    230.1   37.8       69.2   22.1\n",
       "2     44.5   39.3       45.1   10.4\n",
       "3     17.2   45.9       69.3    9.3\n",
       "4    151.5   41.3       58.5   18.5\n",
       "5    180.8   10.8       58.4   12.9\n",
       "..     ...    ...        ...    ...\n",
       "196   38.2    3.7       13.8    7.6\n",
       "197   94.2    4.9        8.1    9.7\n",
       "198  177.0    9.3        6.4   12.8\n",
       "199  283.6   42.0       66.2   25.5\n",
       "200  232.1    8.6        8.7   13.4\n",
       "\n",
       "[200 rows x 4 columns]"
      ]
     },
     "execution_count": 2,
     "metadata": {},
     "output_type": "execute_result"
    }
   ],
   "source": [
    "X=pd.read_csv(\"Advertising.csv\",index_col=[0])\n",
    "X"
   ]
  },
  {
   "cell_type": "code",
   "execution_count": 3,
   "id": "a4386369",
   "metadata": {},
   "outputs": [],
   "source": [
    "from sklearn.model_selection import train_test_split\n",
    "from sklearn.linear_model import Ridge"
   ]
  },
  {
   "cell_type": "code",
   "execution_count": 4,
   "id": "50ee070a",
   "metadata": {},
   "outputs": [],
   "source": [
    "x=X.iloc[:,:-1]\n",
    "y=X[['Sales']]"
   ]
  },
  {
   "cell_type": "code",
   "execution_count": 5,
   "id": "93b5863b",
   "metadata": {},
   "outputs": [],
   "source": [
    "X_train,X_test,y_train,y_test=train_test_split(x,y,test_size=0.1)"
   ]
  },
  {
   "cell_type": "code",
   "execution_count": 6,
   "id": "530ee9bf",
   "metadata": {},
   "outputs": [],
   "source": [
    "model_rid=Ridge().fit(X_train,y_train)\n",
    "\n",
    "pred_test_rid=model_rid.predict(X_test)\n",
    "pred_train_rid=model_rid.predict(X_train)"
   ]
  },
  {
   "cell_type": "code",
   "execution_count": 7,
   "id": "9e5caaea",
   "metadata": {},
   "outputs": [
    {
     "data": {
      "text/plain": [
       "(1.226246240613482,\n",
       " 2.7474380281402255,\n",
       " 0.901314088976544,\n",
       " 1.475692421794453,\n",
       " 3.178564863432142,\n",
       " 0.8404206731749467)"
      ]
     },
     "execution_count": 7,
     "metadata": {},
     "output_type": "execute_result"
    }
   ],
   "source": [
    "from sklearn.metrics import mean_absolute_error,mean_squared_error\n",
    "\n",
    "MAE_TEST_RID=mean_absolute_error(y_test,pred_test_rid)\n",
    "MAE_TRAIN_RID=mean_absolute_error(y_train,pred_train_rid)\n",
    "\n",
    "MSE_TEST_RID=mean_squared_error(y_test,pred_test_rid)\n",
    "MSE_TRAIN_RID=mean_squared_error(y_train,pred_train_rid)\n",
    "\n",
    "R2_TEST_RID=model_rid.score(X_test,y_test)\n",
    "R2_TRAIN_RID=model_rid.score(X_train,y_train)\n",
    "\n",
    "MAE_TRAIN_RID,MSE_TRAIN_RID,R2_TRAIN_RID,MAE_TEST_RID,MSE_TEST_RID,R2_TEST_RID"
   ]
  },
  {
   "cell_type": "code",
   "execution_count": 8,
   "id": "ff379e55",
   "metadata": {},
   "outputs": [
    {
     "data": {
      "text/plain": [
       "GridSearchCV(cv=3, estimator=Ridge(),\n",
       "             param_grid={'alpha': [0.0001, 0.001, 0.01, 0.1, 1, 5, 10, 100],\n",
       "                         'max_iter': [1000, 10000, 100000, 400000]})"
      ]
     },
     "execution_count": 8,
     "metadata": {},
     "output_type": "execute_result"
    }
   ],
   "source": [
    "params={'alpha':[0.0001,0.001,0.01,0.1,1,5,10,100],'max_iter':[1000,10000,100000,400000]}\n",
    "from sklearn.model_selection import GridSearchCV\n",
    "model_grid=GridSearchCV(model_rid,params,cv=3)\n",
    "model_grid.fit(X_train,y_train)"
   ]
  },
  {
   "cell_type": "code",
   "execution_count": 9,
   "id": "c03c2ea3",
   "metadata": {},
   "outputs": [
    {
     "data": {
      "text/plain": [
       "{'alpha': 100, 'max_iter': 1000}"
      ]
     },
     "execution_count": 9,
     "metadata": {},
     "output_type": "execute_result"
    }
   ],
   "source": [
    "model_grid.best_params_"
   ]
  },
  {
   "cell_type": "code",
   "execution_count": 10,
   "id": "96246366",
   "metadata": {},
   "outputs": [],
   "source": [
    "pred_test_grid=model_grid.predict(X_test)\n",
    "pred_train_grid=model_grid.predict(X_train)"
   ]
  },
  {
   "cell_type": "code",
   "execution_count": 11,
   "id": "74be7eba",
   "metadata": {},
   "outputs": [
    {
     "data": {
      "text/plain": [
       "(1.2267739882397202,\n",
       " 2.7474945757740517,\n",
       " 0.9013120578279964,\n",
       " 1.4771840022673048,\n",
       " 3.182002446074844,\n",
       " 0.8402480899030623)"
      ]
     },
     "execution_count": 11,
     "metadata": {},
     "output_type": "execute_result"
    }
   ],
   "source": [
    "from sklearn.metrics import mean_absolute_error,mean_squared_error\n",
    "\n",
    "MAE_TEST_GRID=mean_absolute_error(y_test,pred_test_grid)\n",
    "MAE_TRAIN_GRID=mean_absolute_error(y_train,pred_train_grid)\n",
    "\n",
    "MSE_TEST_GRID=mean_squared_error(y_test,pred_test_grid)\n",
    "MSE_TRAIN_GRID=mean_squared_error(y_train,pred_train_grid)\n",
    "\n",
    "R2_TEST_GRID=model_grid.score(X_test,y_test)\n",
    "R2_TRAIN_GRID=model_grid.score(X_train,y_train)\n",
    "\n",
    "MAE_TRAIN_GRID,MSE_TRAIN_GRID,R2_TRAIN_GRID,MAE_TEST_GRID,MSE_TEST_GRID,R2_TEST_GRID"
   ]
  },
  {
   "cell_type": "code",
   "execution_count": 12,
   "id": "d81f34c3",
   "metadata": {},
   "outputs": [
    {
     "data": {
      "text/plain": [
       "(1.2267739882397202,\n",
       " 2.7474945757740517,\n",
       " 1.6575568092147104,\n",
       " 0.9013120578279964,\n",
       " 1.4771840022673048,\n",
       " 3.182002446074844,\n",
       " 1.7838168196524116,\n",
       " 0.8402480899030623)"
      ]
     },
     "execution_count": 12,
     "metadata": {},
     "output_type": "execute_result"
    }
   ],
   "source": [
    "import numpy as np\n",
    "RR=MAE_TRAIN_GRID,MSE_TRAIN_GRID,np.sqrt(MSE_TRAIN_GRID),R2_TRAIN_GRID,MAE_TEST_GRID,MSE_TEST_GRID,np.sqrt(MSE_TEST_GRID),R2_TEST_GRID\n",
    "RR"
   ]
  },
  {
   "cell_type": "code",
   "execution_count": null,
   "id": "d5c13d03",
   "metadata": {},
   "outputs": [],
   "source": []
  },
  {
   "cell_type": "code",
   "execution_count": null,
   "id": "fcf58d83",
   "metadata": {},
   "outputs": [],
   "source": []
  },
  {
   "cell_type": "code",
   "execution_count": 13,
   "id": "15aafa91",
   "metadata": {},
   "outputs": [],
   "source": [
    "from sklearn.model_selection import train_test_split\n",
    "from sklearn.linear_model import Lasso"
   ]
  },
  {
   "cell_type": "code",
   "execution_count": 14,
   "id": "70bd99cf",
   "metadata": {},
   "outputs": [
    {
     "data": {
      "text/plain": [
       "(1.2087917815065898,\n",
       " 2.669538084670451,\n",
       " 0.9027832989709367,\n",
       " 1.6449941107399144,\n",
       " 3.910134687789106,\n",
       " 0.8331446273550556)"
      ]
     },
     "execution_count": 14,
     "metadata": {},
     "output_type": "execute_result"
    }
   ],
   "source": [
    "\n",
    "x=X.iloc[:,:-1]\n",
    "y=X[['Sales']]\n",
    "\n",
    "X_train,X_test,y_train,y_test=train_test_split(x,y,test_size=0.1)\n",
    "\n",
    "model_las=Lasso().fit(X_train,y_train)\n",
    "\n",
    "pred_test_las=model_las.predict(X_test)\n",
    "pred_train_las=model_las.predict(X_train)\n",
    "\n",
    "\n",
    "from sklearn.metrics import mean_absolute_error,mean_squared_error\n",
    "\n",
    "MAE_TEST_LAS=mean_absolute_error(y_test,pred_test_las)\n",
    "MAE_TRAIN_LAS=mean_absolute_error(y_train,pred_train_las)\n",
    "\n",
    "MSE_TEST_LAS=mean_squared_error(y_test,pred_test_las)\n",
    "MSE_TRAIN_LAS=mean_squared_error(y_train,pred_train_las)\n",
    "\n",
    "R2_TEST_LAS=model_las.score(X_test,y_test)\n",
    "R2_TRAIN_LAS=model_las.score(X_train,y_train)\n",
    "\n",
    "MAE_TRAIN_LAS,MSE_TRAIN_LAS,R2_TRAIN_LAS,MAE_TEST_LAS,MSE_TEST_LAS,R2_TEST_LAS"
   ]
  },
  {
   "cell_type": "code",
   "execution_count": 15,
   "id": "b5082e99",
   "metadata": {},
   "outputs": [
    {
     "data": {
      "text/plain": [
       "GridSearchCV(cv=3, estimator=Lasso(),\n",
       "             param_grid={'alpha': [0.0001, 0.001, 0.01, 0.1, 1, 5, 10, 100],\n",
       "                         'max_iter': [1000, 10000, 100000, 400000]})"
      ]
     },
     "execution_count": 15,
     "metadata": {},
     "output_type": "execute_result"
    }
   ],
   "source": [
    "params={'alpha':[0.0001,0.001,0.01,0.1,1,5,10,100],'max_iter':[1000,10000,100000,400000]}\n",
    "from sklearn.model_selection import GridSearchCV\n",
    "model_grid1=GridSearchCV(model_las,params,cv=3)\n",
    "model_grid1.fit(X_train,y_train)"
   ]
  },
  {
   "cell_type": "code",
   "execution_count": 16,
   "id": "4332e52a",
   "metadata": {},
   "outputs": [
    {
     "data": {
      "text/plain": [
       "{'alpha': 1, 'max_iter': 1000}"
      ]
     },
     "execution_count": 16,
     "metadata": {},
     "output_type": "execute_result"
    }
   ],
   "source": [
    "model_grid1.best_params_"
   ]
  },
  {
   "cell_type": "code",
   "execution_count": 17,
   "id": "04869539",
   "metadata": {},
   "outputs": [
    {
     "data": {
      "text/plain": [
       "(1.2087917815065898,\n",
       " 2.669538084670451,\n",
       " 0.9027832989709367,\n",
       " 1.6449941107399144,\n",
       " 3.910134687789106,\n",
       " 0.8331446273550556)"
      ]
     },
     "execution_count": 17,
     "metadata": {},
     "output_type": "execute_result"
    }
   ],
   "source": [
    "pred_test_grid1=model_grid1.predict(X_test)\n",
    "pred_train_grid1=model_grid1.predict(X_train)\n",
    "\n",
    "from sklearn.metrics import mean_absolute_error,mean_squared_error\n",
    "\n",
    "MAE_TEST_GRID1=mean_absolute_error(y_test,pred_test_grid1)\n",
    "MAE_TRAIN_GRID1=mean_absolute_error(y_train,pred_train_grid1)\n",
    "\n",
    "MSE_TEST_GRID1=mean_squared_error(y_test,pred_test_grid1)\n",
    "MSE_TRAIN_GRID1=mean_squared_error(y_train,pred_train_grid1)\n",
    "\n",
    "R2_TEST_GRID1=model_grid1.score(X_test,y_test)\n",
    "R2_TRAIN_GRID1=model_grid1.score(X_train,y_train)\n",
    "\n",
    "MAE_TRAIN_GRID1,MSE_TRAIN_GRID1,R2_TRAIN_GRID1,MAE_TEST_GRID1,MSE_TEST_GRID1,R2_TEST_GRID1"
   ]
  },
  {
   "cell_type": "code",
   "execution_count": 18,
   "id": "f23b376f",
   "metadata": {},
   "outputs": [
    {
     "data": {
      "text/plain": [
       "(1.2087917815065898,\n",
       " 2.669538084670451,\n",
       " 1.6338721139276633,\n",
       " 0.9027832989709367,\n",
       " 1.6449941107399144,\n",
       " 3.910134687789106,\n",
       " 1.9774060503065893,\n",
       " 0.8331446273550556)"
      ]
     },
     "execution_count": 18,
     "metadata": {},
     "output_type": "execute_result"
    }
   ],
   "source": [
    "\n",
    "import numpy as np\n",
    "RR1=MAE_TRAIN_GRID1,MSE_TRAIN_GRID1,np.sqrt(MSE_TRAIN_GRID1),R2_TRAIN_GRID1,MAE_TEST_GRID1,MSE_TEST_GRID1,np.sqrt(MSE_TEST_GRID1),R2_TEST_GRID1\n",
    "RR1"
   ]
  },
  {
   "cell_type": "code",
   "execution_count": null,
   "id": "659d8a3e",
   "metadata": {},
   "outputs": [],
   "source": []
  },
  {
   "cell_type": "code",
   "execution_count": null,
   "id": "08d76560",
   "metadata": {},
   "outputs": [],
   "source": []
  },
  {
   "cell_type": "code",
   "execution_count": 19,
   "id": "bfa5023b",
   "metadata": {},
   "outputs": [],
   "source": [
    "from sklearn.linear_model import ElasticNet\n",
    "x=X.iloc[:,:-1]\n",
    "y=X['Sales']\n"
   ]
  },
  {
   "cell_type": "code",
   "execution_count": 20,
   "id": "664bbc49",
   "metadata": {},
   "outputs": [],
   "source": [
    "from sklearn.model_selection import train_test_split\n",
    "x_train,x_test,y_train,y_test=train_test_split(x,y)"
   ]
  },
  {
   "cell_type": "code",
   "execution_count": 21,
   "id": "7d92c79d",
   "metadata": {},
   "outputs": [],
   "source": [
    "prms={'alpha':[0.0001,0.001,0.01,0.1,1,5,10],'max_iter':[100,1000,10000,100000,1000000]}\n",
    "\n",
    "\n",
    "model_ela=ElasticNet().fit(x_train,y_train)\n",
    "\n",
    "\n"
   ]
  },
  {
   "cell_type": "code",
   "execution_count": 22,
   "id": "2b52845d",
   "metadata": {},
   "outputs": [
    {
     "data": {
      "text/plain": [
       "GridSearchCV(cv=3, estimator=ElasticNet(),\n",
       "             param_grid={'alpha': [0.0001, 0.001, 0.01, 0.1, 1, 5, 10],\n",
       "                         'max_iter': [100, 1000, 10000, 100000, 1000000]})"
      ]
     },
     "execution_count": 22,
     "metadata": {},
     "output_type": "execute_result"
    }
   ],
   "source": [
    "from sklearn.model_selection import GridSearchCV\n",
    "model_grid2=GridSearchCV(model_ela,prms,cv=3)\n",
    "model_grid2.fit(x_train,y_train)\n"
   ]
  },
  {
   "cell_type": "code",
   "execution_count": 23,
   "id": "f706b3b5",
   "metadata": {},
   "outputs": [
    {
     "data": {
      "text/plain": [
       "{'alpha': 0.0001, 'max_iter': 100}"
      ]
     },
     "execution_count": 23,
     "metadata": {},
     "output_type": "execute_result"
    }
   ],
   "source": [
    "model_grid2.best_params_"
   ]
  },
  {
   "cell_type": "code",
   "execution_count": 24,
   "id": "84cfa7c9",
   "metadata": {},
   "outputs": [],
   "source": [
    "pred_test_grid2=model_grid2.predict(x_test)\n",
    "pred_train_grid2=model_grid2.predict(x_train)\n",
    "from sklearn.metrics import mean_squared_error,mean_absolute_error\n",
    "    \n",
    "MAE_TEST_GRID2=mean_absolute_error(y_test,pred_test_grid2)\n",
    "MAE_TRAIN_GRID2=mean_absolute_error(y_train,pred_train_grid2)\n",
    "\n",
    "MSE_TEST_GRID2=mean_squared_error(y_test,pred_test_grid2)\n",
    "MSE_TRAIN_GRID2=mean_squared_error(y_train,pred_train_grid2)\n",
    "\n",
    "R2_TEST_GRID2=model_grid2.score(x_test,y_test)\n",
    "R2_TRAIN_GRID2=model_grid2.score(x_train,y_train)"
   ]
  },
  {
   "cell_type": "code",
   "execution_count": 25,
   "id": "f34678f1",
   "metadata": {},
   "outputs": [
    {
     "data": {
      "text/plain": [
       "(1.2573516985062085,\n",
       " 2.5795068036350086,\n",
       " 1.6060843077606508,\n",
       " 0.903654181626509,\n",
       " 1.2164293893509768,\n",
       " 3.6829872987211774,\n",
       " 1.9191110699282565,\n",
       " 0.8685155299038351)"
      ]
     },
     "execution_count": 25,
     "metadata": {},
     "output_type": "execute_result"
    }
   ],
   "source": [
    "import numpy as np\n",
    "RR2=MAE_TRAIN_GRID2,MSE_TRAIN_GRID2,np.sqrt(MSE_TRAIN_GRID2),R2_TRAIN_GRID2,MAE_TEST_GRID2,MSE_TEST_GRID2,np.sqrt(MSE_TEST_GRID2),R2_TEST_GRID2\n",
    "RR2"
   ]
  },
  {
   "cell_type": "code",
   "execution_count": null,
   "id": "1996e93e",
   "metadata": {},
   "outputs": [],
   "source": []
  }
 ],
 "metadata": {
  "kernelspec": {
   "display_name": "Python 3 (ipykernel)",
   "language": "python",
   "name": "python3"
  },
  "language_info": {
   "codemirror_mode": {
    "name": "ipython",
    "version": 3
   },
   "file_extension": ".py",
   "mimetype": "text/x-python",
   "name": "python",
   "nbconvert_exporter": "python",
   "pygments_lexer": "ipython3",
   "version": "3.9.12"
  }
 },
 "nbformat": 4,
 "nbformat_minor": 5
}
