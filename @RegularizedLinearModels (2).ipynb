{
 "cells": [
  {
   "cell_type": "code",
   "execution_count": 2,
   "metadata": {
    "collapsed": true,
    "jupyter": {
     "outputs_hidden": true
    },
    "tags": []
   },
   "outputs": [
    {
     "name": "stdout",
     "output_type": "stream",
     "text": [
      "Defaulting to user installation because normal site-packages is not writeable\n",
      "Collecting mglearn\n",
      "  Downloading mglearn-0.1.9.tar.gz (540 kB)\n",
      "\u001b[2K     \u001b[90m━━━━━━━━━━━━━━━━━━━━━━━━━━━━━━━━━━━━━━━\u001b[0m \u001b[32m540.1/540.1 KB\u001b[0m \u001b[31m9.4 MB/s\u001b[0m eta \u001b[36m0:00:00\u001b[0m00:01\u001b[0m\n",
      "\u001b[?25h  Preparing metadata (setup.py) ... \u001b[?25ldone\n",
      "\u001b[?25hRequirement already satisfied: numpy in /usr/local/lib/python3.7/site-packages (from mglearn) (1.21.5)\n",
      "Requirement already satisfied: matplotlib in /usr/local/lib/python3.7/site-packages (from mglearn) (3.5.1)\n",
      "Requirement already satisfied: scikit-learn in /usr/local/lib/python3.7/site-packages (from mglearn) (0.24.2)\n",
      "Requirement already satisfied: pandas in /usr/local/lib/python3.7/site-packages (from mglearn) (1.1.5)\n",
      "Requirement already satisfied: pillow in /usr/local/lib/python3.7/site-packages (from mglearn) (7.1.1)\n",
      "Requirement already satisfied: cycler in /usr/local/lib/python3.7/site-packages (from mglearn) (0.10.0)\n",
      "Requirement already satisfied: imageio in /usr/local/lib/python3.7/site-packages (from mglearn) (2.8.0)\n",
      "Requirement already satisfied: joblib in /usr/local/lib/python3.7/site-packages (from mglearn) (0.14.1)\n",
      "Requirement already satisfied: six in /usr/local/lib/python3.7/site-packages (from cycler->mglearn) (1.14.0)\n",
      "Requirement already satisfied: fonttools>=4.22.0 in /usr/local/lib/python3.7/site-packages (from matplotlib->mglearn) (4.28.5)\n",
      "Requirement already satisfied: packaging>=20.0 in /usr/local/lib/python3.7/site-packages (from matplotlib->mglearn) (21.0)\n",
      "Requirement already satisfied: python-dateutil>=2.7 in /usr/local/lib/python3.7/site-packages (from matplotlib->mglearn) (2.8.1)\n",
      "Requirement already satisfied: pyparsing>=2.2.1 in /usr/local/lib/python3.7/site-packages (from matplotlib->mglearn) (2.4.6)\n",
      "Requirement already satisfied: kiwisolver>=1.0.1 in /usr/local/lib/python3.7/site-packages (from matplotlib->mglearn) (1.2.0)\n",
      "Requirement already satisfied: pytz>=2017.2 in /usr/local/lib/python3.7/site-packages (from pandas->mglearn) (2019.3)\n",
      "Requirement already satisfied: scipy>=0.19.1 in /usr/local/lib/python3.7/site-packages (from scikit-learn->mglearn) (1.4.1)\n",
      "Requirement already satisfied: threadpoolctl>=2.0.0 in /usr/local/lib/python3.7/site-packages (from scikit-learn->mglearn) (2.2.0)\n",
      "Building wheels for collected packages: mglearn\n",
      "  Building wheel for mglearn (setup.py) ... \u001b[?25ldone\n",
      "\u001b[?25h  Created wheel for mglearn: filename=mglearn-0.1.9-py2.py3-none-any.whl size=582638 sha256=be880be7526aa09fba532c50b1da13c496b16d2129073080f2ecb60673c5298d\n",
      "  Stored in directory: /home/labsuser/.cache/pip/wheels/f1/17/e1/1720d6dcd70187b6b6c3750cb3508798f2b1d57c9d3214b08b\n",
      "Successfully built mglearn\n",
      "Installing collected packages: mglearn\n",
      "Successfully installed mglearn-0.1.9\n",
      "\u001b[33mWARNING: You are using pip version 22.0.3; however, version 22.0.4 is available.\n",
      "You should consider upgrading via the '/usr/local/bin/python3 -m pip install --upgrade pip' command.\u001b[0m\u001b[33m\n",
      "\u001b[0m"
     ]
    }
   ],
   "source": [
    "!pip install mglearn"
   ]
  },
  {
   "cell_type": "code",
   "execution_count": 1,
   "metadata": {},
   "outputs": [],
   "source": [
    "import mglearn\n",
    "import numpy as np\n",
    "import matplotlib.pyplot as plt"
   ]
  },
  {
   "cell_type": "code",
   "execution_count": 2,
   "metadata": {},
   "outputs": [],
   "source": [
    "from sklearn.metrics import mean_absolute_error, mean_squared_error"
   ]
  },
  {
   "cell_type": "code",
   "execution_count": 3,
   "metadata": {},
   "outputs": [],
   "source": [
    "from sklearn.model_selection import train_test_split\n",
    "from sklearn.linear_model import LinearRegression"
   ]
  },
  {
   "cell_type": "code",
   "execution_count": 4,
   "metadata": {},
   "outputs": [],
   "source": [
    "X,y = mglearn.datasets.load_extended_boston()\n",
    "X_train, X_test, y_train, y_test = train_test_split(X,y,random_state=0)\n"
   ]
  },
  {
   "cell_type": "markdown",
   "metadata": {},
   "source": [
    "#### Linear Regression"
   ]
  },
  {
   "cell_type": "code",
   "execution_count": 5,
   "metadata": {},
   "outputs": [],
   "source": [
    "my_linear_reg = LinearRegression().fit(X_train, y_train)"
   ]
  },
  {
   "cell_type": "code",
   "execution_count": 6,
   "metadata": {},
   "outputs": [
    {
     "name": "stdout",
     "output_type": "stream",
     "text": [
      "TRAIN DATA RESULTS\n",
      "Mean Absolute Error on Train data :  1.5674141791450238\n",
      "Mean Squared Error on Train data :  4.090362612543772\n",
      "Training Set R squared score :  0.9520519609032729\n",
      "\n",
      "TEST DATA RESULTS\n",
      "Mean Absolute Error on Test data :  3.2258952120186133\n",
      "Mean Squared Error on Test data :  32.06913512158133\n",
      "Test Set R squared score :  0.6074721959665972\n"
     ]
    }
   ],
   "source": [
    "my_preds_train = my_linear_reg.predict(X_train)\n",
    "my_preds_test = my_linear_reg.predict(X_test)\n",
    "\n",
    "print('TRAIN DATA RESULTS')\n",
    "print(\"Mean Absolute Error on Train data : \", mean_absolute_error(y_train, my_preds_train))\n",
    "print(\"Mean Squared Error on Train data : \", mean_squared_error(y_train, my_preds_train))\n",
    "print('Training Set R squared score : ', my_linear_reg.score(X_train, y_train))\n",
    "\n",
    "print('\\nTEST DATA RESULTS')\n",
    "print(\"Mean Absolute Error on Test data : \", mean_absolute_error(y_test, my_preds_test))\n",
    "print(\"Mean Squared Error on Test data : \", mean_squared_error(y_test, my_preds_test))\n",
    "print('Test Set R squared score : ', my_linear_reg.score(X_test, y_test))"
   ]
  },
  {
   "cell_type": "code",
   "execution_count": 7,
   "metadata": {},
   "outputs": [
    {
     "data": {
      "text/plain": [
       "<matplotlib.legend.Legend at 0x7fd1aba5c750>"
      ]
     },
     "execution_count": 7,
     "metadata": {},
     "output_type": "execute_result"
    },
    {
     "data": {
      "image/png": "[encoded data removed]",
      "text/plain": [
       "<Figure size 432x288 with 1 Axes>"
      ]
     },
     "metadata": {
      "needs_background": "light"
     },
     "output_type": "display_data"
    }
   ],
   "source": [
    "plt.plot(my_linear_reg.coef_,'x', label = 'LinearRegression')\n",
    "plt.xlabel('Coefficient index')\n",
    "plt.ylabel('Coefficient Magnitude')\n",
    "plt.legend()"
   ]
  },
  {
   "cell_type": "markdown",
   "metadata": {},
   "source": [
    "#### Ridge Regression"
   ]
  },
  {
   "cell_type": "code",
   "execution_count": 7,
   "metadata": {},
   "outputs": [
    {
     "name": "stdout",
     "output_type": "stream",
     "text": [
      "TRAIN DATA RESULTS\n",
      "Mean Absolute Error on Train data :  2.1656396671236777\n",
      "Mean Squared Error on Train data :  9.742485553723796\n",
      "Training Set R squared score :  0.8857966585170942\n",
      "\n",
      "TEST DATA RESULTS\n",
      "Mean Absolute Error on Test data :  2.9626926001410125\n",
      "Mean Squared Error on Test data :  20.19858253926341\n",
      "Test Set R squared score :  0.7527683481744754\n"
     ]
    }
   ],
   "source": [
    "from sklearn.linear_model import Ridge\n",
    "\n",
    "my_ridge_model = Ridge().fit(X_train, y_train)\n",
    "\n",
    "my_preds_train = my_ridge_model.predict(X_train)\n",
    "my_preds_test = my_ridge_model.predict(X_test)\n",
    "\n",
    "print('TRAIN DATA RESULTS')\n",
    "print(\"Mean Absolute Error on Train data : \", mean_absolute_error(y_train, my_preds_train))\n",
    "print(\"Mean Squared Error on Train data : \", mean_squared_error(y_train, my_preds_train))\n",
    "print('Training Set R squared score : ', my_ridge_model.score(X_train, y_train))\n",
    "\n",
    "print('\\nTEST DATA RESULTS')\n",
    "print(\"Mean Absolute Error on Test data : \", mean_absolute_error(y_test, my_preds_test))\n",
    "print(\"Mean Squared Error on Test data : \", mean_squared_error(y_test, my_preds_test))\n",
    "print('Test Set R squared score : ', my_ridge_model.score(X_test, y_test))"
   ]
  },
  {
   "cell_type": "code",
   "execution_count": 8,
   "metadata": {},
   "outputs": [
    {
     "data": {
      "text/plain": [
       "<matplotlib.legend.Legend at 0x7fbc8c9eab10>"
      ]
     },
     "execution_count": 8,
     "metadata": {},
     "output_type": "execute_result"
    },
    {
     "data": {
      "image/png": "[encoded data removed]",
      "text/plain": [
       "<Figure size 432x288 with 1 Axes>"
      ]
     },
     "metadata": {
      "needs_background": "light"
     },
     "output_type": "display_data"
    }
   ],
   "source": [
    "plt.plot(my_ridge_model.coef_, '.', label ='RidgeRegression')\n",
    "plt.plot(my_linear_reg.coef_,'x', label ='LinearRegression')\n",
    "plt.xlabel('Coefficient index')\n",
    "plt.ylabel('Coefficient Magnitude')\n",
    "plt.ylim(-50,50)\n",
    "plt.legend()"
   ]
  },
  {
   "cell_type": "code",
   "execution_count": 9,
   "metadata": {},
   "outputs": [
    {
     "name": "stdout",
     "output_type": "stream",
     "text": [
      "TRAIN DATA RESULTS\n",
      "Mean Absolute Error on Train data :  2.9390307351862237\n",
      "Mean Squared Error on Train data :  18.06156954326674\n",
      "Training Set R squared score :  0.7882787115369615\n",
      "\n",
      "TEST DATA RESULTS\n",
      "Mean Absolute Error on Test data :  3.6037621286999606\n",
      "Mean Squared Error on Test data :  29.74324969492207\n",
      "Test Set R squared score :  0.6359411489177311\n"
     ]
    }
   ],
   "source": [
    "my_ridge_model = Ridge(alpha=10).fit(X_train, y_train)\n",
    "\n",
    "my_preds_train = my_ridge_model.predict(X_train)\n",
    "my_preds_test = my_ridge_model.predict(X_test)\n",
    "\n",
    "print('TRAIN DATA RESULTS')\n",
    "print(\"Mean Absolute Error on Train data : \", mean_absolute_error(y_train, my_preds_train))\n",
    "print(\"Mean Squared Error on Train data : \", mean_squared_error(y_train, my_preds_train))\n",
    "print('Training Set R squared score : ', my_ridge_model.score(X_train, y_train))\n",
    "\n",
    "print('\\nTEST DATA RESULTS')\n",
    "print(\"Mean Absolute Error on Test data : \", mean_absolute_error(y_test, my_preds_test))\n",
    "print(\"Mean Squared Error on Test data : \", mean_squared_error(y_test, my_preds_test))\n",
    "print('Test Set R squared score : ', my_ridge_model.score(X_test, y_test))"
   ]
  },
  {
   "cell_type": "code",
   "execution_count": 10,
   "metadata": {},
   "outputs": [
    {
     "data": {
      "text/plain": [
       "<matplotlib.legend.Legend at 0x7fbc888347d0>"
      ]
     },
     "execution_count": 10,
     "metadata": {},
     "output_type": "execute_result"
    },
    {
     "data": {
      "image/png": "[encoded data removed]",
      "text/plain": [
       "<Figure size 432x288 with 1 Axes>"
      ]
     },
     "metadata": {
      "needs_background": "light"
     },
     "output_type": "display_data"
    }
   ],
   "source": [
    "plt.plot(my_ridge_model.coef_, '.', label ='RidgeRegression')\n",
    "plt.plot(my_linear_reg.coef_,'x', label ='LinearRegression')\n",
    "plt.xlabel('Coefficient index')\n",
    "plt.ylabel('Coefficient Magnitude')\n",
    "plt.ylim(-50,50)\n",
    "plt.legend()"
   ]
  },
  {
   "cell_type": "code",
   "execution_count": 11,
   "metadata": {},
   "outputs": [
    {
     "name": "stdout",
     "output_type": "stream",
     "text": [
      "TRAIN DATA RESULTS\n",
      "Mean Absolute Error on Train data :  1.9158872093574644\n",
      "Mean Squared Error on Train data :  7.366461250095981\n",
      "Training Set R squared score :  0.9136488850790494\n",
      "\n",
      "TEST DATA RESULTS\n",
      "Mean Absolute Error on Test data :  2.893105344924319\n",
      "Mean Squared Error on Test data :  18.525960670602263\n",
      "Test Set R squared score :  0.7732413227836962\n"
     ]
    }
   ],
   "source": [
    "from sklearn.linear_model import Ridge\n",
    "\n",
    "my_ridge_model = Ridge(alpha=0.3).fit(X_train, y_train)\n",
    "\n",
    "my_preds_train = my_ridge_model.predict(X_train)\n",
    "my_preds_test = my_ridge_model.predict(X_test)\n",
    "\n",
    "print('TRAIN DATA RESULTS')\n",
    "print(\"Mean Absolute Error on Train data : \", mean_absolute_error(y_train, my_preds_train))\n",
    "print(\"Mean Squared Error on Train data : \", mean_squared_error(y_train, my_preds_train))\n",
    "print('Training Set R squared score : ', my_ridge_model.score(X_train, y_train))\n",
    "\n",
    "print('\\nTEST DATA RESULTS')\n",
    "print(\"Mean Absolute Error on Test data : \", mean_absolute_error(y_test, my_preds_test))\n",
    "print(\"Mean Squared Error on Test data : \", mean_squared_error(y_test, my_preds_test))\n",
    "print('Test Set R squared score : ', my_ridge_model.score(X_test, y_test))"
   ]
  },
  {
   "cell_type": "code",
   "execution_count": 12,
   "metadata": {},
   "outputs": [
    {
     "data": {
      "text/plain": [
       "<matplotlib.legend.Legend at 0x7fbc8882fd90>"
      ]
     },
     "execution_count": 12,
     "metadata": {},
     "output_type": "execute_result"
    },
    {
     "data": {
      "image/png": "[encoded data removed]",
      "text/plain": [
       "<Figure size 432x288 with 1 Axes>"
      ]
     },
     "metadata": {
      "needs_background": "light"
     },
     "output_type": "display_data"
    }
   ],
   "source": [
    "plt.plot(my_ridge_model.coef_, '.', label ='RidgeRegression')\n",
    "plt.plot(my_linear_reg.coef_,'x', label ='LinearRegression')\n",
    "plt.xlabel('Coefficient index')\n",
    "plt.ylabel('Coefficient Magnitude')\n",
    "plt.ylim(-50,50)\n",
    "plt.legend()"
   ]
  },
  {
   "cell_type": "markdown",
   "metadata": {},
   "source": [
    "#### Lasso Regression"
   ]
  },
  {
   "cell_type": "code",
   "execution_count": 13,
   "metadata": {},
   "outputs": [],
   "source": [
    "from sklearn.linear_model import Lasso"
   ]
  },
  {
   "cell_type": "code",
   "execution_count": 14,
   "metadata": {},
   "outputs": [
    {
     "name": "stdout",
     "output_type": "stream",
     "text": [
      "TRAIN DATA RESULTS\n",
      "Mean Absolute Error on Train data :  5.512753169106904\n",
      "Mean Squared Error on Train data :  60.29264561394445\n",
      "Training Set R squared score :  0.29323768991114607\n",
      "\n",
      "TEST DATA RESULTS\n",
      "Mean Absolute Error on Test data :  5.488898627760888\n",
      "Mean Squared Error on Test data :  64.59328142116775\n",
      "Test Set R squared score :  0.20937503255272294\n"
     ]
    }
   ],
   "source": [
    "my_lasso = Lasso().fit(X_train, y_train)\n",
    "\n",
    "my_preds_train = my_lasso.predict(X_train)\n",
    "my_preds_test = my_lasso.predict(X_test)\n",
    "\n",
    "print('TRAIN DATA RESULTS')\n",
    "print(\"Mean Absolute Error on Train data : \", mean_absolute_error(y_train, my_preds_train))\n",
    "print(\"Mean Squared Error on Train data : \", mean_squared_error(y_train, my_preds_train))\n",
    "print('Training Set R squared score : ', my_lasso.score(X_train, y_train))\n",
    "\n",
    "print('\\nTEST DATA RESULTS')\n",
    "print(\"Mean Absolute Error on Test data : \", mean_absolute_error(y_test, my_preds_test))\n",
    "print(\"Mean Squared Error on Test data : \", mean_squared_error(y_test, my_preds_test))\n",
    "print('Test Set R squared score : ', my_lasso.score(X_test, y_test))"
   ]
  },
  {
   "cell_type": "code",
   "execution_count": 15,
   "metadata": {},
   "outputs": [
    {
     "data": {
      "text/plain": [
       "array([-0.        ,  0.        , -0.        ,  0.        , -0.        ,\n",
       "        0.        , -0.        ,  0.        , -0.        , -0.        ,\n",
       "       -0.        ,  0.        , -5.3529079 , -0.        ,  0.        ,\n",
       "       -0.        ,  0.        , -0.        , -0.        , -0.        ,\n",
       "       -0.        , -0.        , -0.        , -0.        , -0.        ,\n",
       "       -0.        ,  0.        ,  0.        ,  0.        ,  0.        ,\n",
       "        0.        ,  0.        ,  0.        ,  0.        ,  0.        ,\n",
       "        0.        ,  0.        ,  0.        , -0.        ,  0.        ,\n",
       "       -0.        , -0.        , -0.        , -0.        , -0.        ,\n",
       "       -0.        , -0.        , -0.        , -0.        ,  0.        ,\n",
       "        0.        ,  0.        ,  0.        ,  0.        ,  0.        ,\n",
       "        0.        ,  0.        ,  0.        , -0.        , -0.        ,\n",
       "       -0.        , -0.        , -0.        , -0.        , -0.        ,\n",
       "       -0.        , -0.        , -0.        ,  0.        ,  0.        ,\n",
       "        0.        , -0.        , -0.        , -0.        ,  0.        ,\n",
       "       -0.        , -0.        ,  0.        , -0.        , -1.05063037,\n",
       "       -3.3104274 , -0.        , -0.        ,  0.        , -0.        ,\n",
       "       -0.        , -0.        ,  0.        , -0.        , -0.41386744,\n",
       "       -0.        , -0.        , -0.        , -0.        , -0.        ,\n",
       "       -0.        , -0.        , -0.        , -0.        , -0.        ,\n",
       "       -0.        ,  0.        , -0.        , -0.        ])"
      ]
     },
     "execution_count": 15,
     "metadata": {},
     "output_type": "execute_result"
    }
   ],
   "source": [
    "my_lasso.coef_"
   ]
  },
  {
   "cell_type": "code",
   "execution_count": 59,
   "metadata": {},
   "outputs": [
    {
     "data": {
      "text/plain": [
       "0.038461538461538464"
      ]
     },
     "execution_count": 59,
     "metadata": {},
     "output_type": "execute_result"
    }
   ],
   "source": [
    "np.sum(my_lasso.coef_!=0)/104"
   ]
  },
  {
   "cell_type": "code",
   "execution_count": 16,
   "metadata": {},
   "outputs": [
    {
     "name": "stdout",
     "output_type": "stream",
     "text": [
      "TRAIN DATA RESULTS\n",
      "Mean Absolute Error on Train data :  2.0980931241271286\n",
      "Mean Squared Error on Train data :  8.86248217402341\n",
      "Training Set R squared score :  0.8961122320864716\n",
      "\n",
      "TEST DATA RESULTS\n",
      "Mean Absolute Error on Test data :  2.760201063744704\n",
      "Mean Squared Error on Test data :  18.9705467531401\n",
      "Test Set R squared score :  0.7677995670886713\n"
     ]
    },
    {
     "name": "stderr",
     "output_type": "stream",
     "text": [
      "/usr/local/lib/python3.7/site-packages/sklearn/linear_model/_coordinate_descent.py:532: ConvergenceWarning: Objective did not converge. You might want to increase the number of iterations. Duality gap: 46.90245800318007, tolerance: 3.233182126649076\n",
      "  positive)\n"
     ]
    }
   ],
   "source": [
    "my_lasso = Lasso(alpha=.01).fit(X_train, y_train)\n",
    "\n",
    "my_preds_train = my_lasso.predict(X_train)\n",
    "my_preds_test = my_lasso.predict(X_test)\n",
    "\n",
    "print('TRAIN DATA RESULTS')\n",
    "print(\"Mean Absolute Error on Train data : \", mean_absolute_error(y_train, my_preds_train))\n",
    "print(\"Mean Squared Error on Train data : \", mean_squared_error(y_train, my_preds_train))\n",
    "print('Training Set R squared score : ', my_lasso.score(X_train, y_train))\n",
    "\n",
    "print('\\nTEST DATA RESULTS')\n",
    "print(\"Mean Absolute Error on Test data : \", mean_absolute_error(y_test, my_preds_test))\n",
    "print(\"Mean Squared Error on Test data : \", mean_squared_error(y_test, my_preds_test))\n",
    "print('Test Set R squared score : ', my_lasso.score(X_test, y_test))"
   ]
  },
  {
   "cell_type": "code",
   "execution_count": 17,
   "metadata": {},
   "outputs": [
    {
     "name": "stdout",
     "output_type": "stream",
     "text": [
      "TRAIN DATA RESULTS\n",
      "Mean Absolute Error on Train data :  2.0959844813537907\n",
      "Mean Squared Error on Train data :  8.85306252207227\n",
      "Training Set R squared score :  0.8962226511086497\n",
      "\n",
      "TEST DATA RESULTS\n",
      "Mean Absolute Error on Test data :  2.7773320164164548\n",
      "Mean Squared Error on Test data :  19.14558277883676\n",
      "Test Set R squared score :  0.7656571174549982\n"
     ]
    }
   ],
   "source": [
    "my_lasso = Lasso(alpha=.01, max_iter=100000).fit(X_train, y_train)\n",
    "\n",
    "my_preds_train = my_lasso.predict(X_train)\n",
    "my_preds_test = my_lasso.predict(X_test)\n",
    "\n",
    "print('TRAIN DATA RESULTS')\n",
    "print(\"Mean Absolute Error on Train data : \", mean_absolute_error(y_train, my_preds_train))\n",
    "print(\"Mean Squared Error on Train data : \", mean_squared_error(y_train, my_preds_train))\n",
    "print('Training Set R squared score : ', my_lasso.score(X_train, y_train))\n",
    "\n",
    "print('\\nTEST DATA RESULTS')\n",
    "print(\"Mean Absolute Error on Test data : \", mean_absolute_error(y_test, my_preds_test))\n",
    "print(\"Mean Squared Error on Test data : \", mean_squared_error(y_test, my_preds_test))\n",
    "print('Test Set R squared score : ', my_lasso.score(X_test, y_test))"
   ]
  },
  {
   "cell_type": "code",
   "execution_count": 18,
   "metadata": {},
   "outputs": [
    {
     "data": {
      "text/plain": [
       "33"
      ]
     },
     "execution_count": 18,
     "metadata": {},
     "output_type": "execute_result"
    }
   ],
   "source": [
    "np.sum(my_lasso.coef_!=0)"
   ]
  },
  {
   "cell_type": "code",
   "execution_count": 19,
   "metadata": {},
   "outputs": [
    {
     "name": "stdout",
     "output_type": "stream",
     "text": [
      "TRAIN DATA RESULTS\n",
      "Mean Absolute Error on Train data :  1.584355695780287\n",
      "Mean Squared Error on Train data :  4.204341704950065\n",
      "Training Set R squared score :  0.9507158754515463\n",
      "\n",
      "TEST DATA RESULTS\n",
      "Mean Absolute Error on Test data :  3.1361447728472513\n",
      "Mean Squared Error on Test data :  29.105540414791957\n",
      "Test Set R squared score :  0.6437467421272822\n"
     ]
    }
   ],
   "source": [
    "my_lasso = Lasso(alpha=.0001, max_iter=100000).fit(X_train, y_train)\n",
    "\n",
    "my_preds_train = my_lasso.predict(X_train)\n",
    "my_preds_test = my_lasso.predict(X_test)\n",
    "\n",
    "print('TRAIN DATA RESULTS')\n",
    "print(\"Mean Absolute Error on Train data : \", mean_absolute_error(y_train, my_preds_train))\n",
    "print(\"Mean Squared Error on Train data : \", mean_squared_error(y_train, my_preds_train))\n",
    "print('Training Set R squared score : ', my_lasso.score(X_train, y_train))\n",
    "\n",
    "print('\\nTEST DATA RESULTS')\n",
    "print(\"Mean Absolute Error on Test data : \", mean_absolute_error(y_test, my_preds_test))\n",
    "print(\"Mean Squared Error on Test data : \", mean_squared_error(y_test, my_preds_test))\n",
    "print('Test Set R squared score : ', my_lasso.score(X_test, y_test))"
   ]
  },
  {
   "cell_type": "code",
   "execution_count": 14,
   "metadata": {},
   "outputs": [],
   "source": [
    "from sklearn.linear_model import ElasticNet"
   ]
  },
  {
   "cell_type": "code",
   "execution_count": 15,
   "metadata": {},
   "outputs": [
    {
     "name": "stdout",
     "output_type": "stream",
     "text": [
      "TRAIN DATA RESULTS\n",
      "Mean Absolute Error on Train data :  5.384374186512277\n",
      "Mean Squared Error on Train data :  57.29487540660845\n",
      "Training Set R squared score :  0.32837814485847916\n",
      "\n",
      "TEST DATA RESULTS\n",
      "Mean Absolute Error on Test data :  5.47345892224782\n",
      "Mean Squared Error on Test data :  63.58630803113862\n",
      "Test Set R squared score :  0.2217004367773664\n"
     ]
    }
   ],
   "source": [
    "my_ElasticNet = ElasticNet().fit(X_train, y_train)\n",
    "\n",
    "my_preds_train = my_ElasticNet.predict(X_train)\n",
    "my_preds_test = my_ElasticNet.predict(X_test)\n",
    "\n",
    "print('TRAIN DATA RESULTS')\n",
    "print(\"Mean Absolute Error on Train data : \", mean_absolute_error(y_train, my_preds_train))\n",
    "print(\"Mean Squared Error on Train data : \", mean_squared_error(y_train, my_preds_train))\n",
    "print('Training Set R squared score : ', my_ElasticNet.score(X_train, y_train))\n",
    "\n",
    "print('\\nTEST DATA RESULTS')\n",
    "print(\"Mean Absolute Error on Test data : \", mean_absolute_error(y_test, my_preds_test))\n",
    "print(\"Mean Squared Error on Test data : \", mean_squared_error(y_test, my_preds_test))\n",
    "print('Test Set R squared score : ', my_ElasticNet.score(X_test, y_test))"
   ]
  },
  {
   "cell_type": "code",
   "execution_count": 12,
   "metadata": {},
   "outputs": [],
   "source": [
    "from sklearn.model_selection import GridSearchCV"
   ]
  },
  {
   "cell_type": "code",
   "execution_count": 16,
   "metadata": {},
   "outputs": [
    {
     "name": "stderr",
     "output_type": "stream",
     "text": [
      "/usr/local/lib/python3.7/site-packages/sklearn/linear_model/_coordinate_descent.py:532: ConvergenceWarning: Objective did not converge. You might want to increase the number of iterations. Duality gap: 750.9921105979345, tolerance: 2.30509725\n",
      "  positive)\n",
      "/usr/local/lib/python3.7/site-packages/sklearn/linear_model/_coordinate_descent.py:532: ConvergenceWarning: Objective did not converge. You might want to increase the number of iterations. Duality gap: 789.7044474638424, tolerance: 2.248618996047431\n",
      "  positive)\n",
      "/usr/local/lib/python3.7/site-packages/sklearn/linear_model/_coordinate_descent.py:532: ConvergenceWarning: Objective did not converge. You might want to increase the number of iterations. Duality gap: 834.9949341425197, tolerance: 1.9060491304347835\n",
      "  positive)\n"
     ]
    },
    {
     "data": {
      "text/plain": [
       "GridSearchCV(cv=3, estimator=ElasticNet(),\n",
       "             param_grid={'alpha': [0.001, 0.01, 0.1, 0.2, 0.5, 0.8, 1, 5, 10],\n",
       "                         'max_iter': [1500, 10000, 100000]})"
      ]
     },
     "execution_count": 16,
     "metadata": {},
     "output_type": "execute_result"
    }
   ],
   "source": [
    "params = {'alpha':[0.001, 0.01, 0.1, 0.2, 0.5, 0.8, 1, 5, 10], 'max_iter':[1500, 10000, 100000]}\n",
    "grid_search = GridSearchCV(my_ElasticNet, params, cv = 3)\n",
    "grid_search.fit(X_train, y_train)"
   ]
  },
  {
   "cell_type": "code",
   "execution_count": 17,
   "metadata": {},
   "outputs": [
    {
     "data": {
      "text/plain": [
       "{'alpha': 0.001, 'max_iter': 10000}"
      ]
     },
     "execution_count": 17,
     "metadata": {},
     "output_type": "execute_result"
    }
   ],
   "source": [
    "grid_search.best_params_"
   ]
  },
  {
   "cell_type": "code",
   "execution_count": 18,
   "metadata": {},
   "outputs": [
    {
     "name": "stdout",
     "output_type": "stream",
     "text": [
      "TRAIN DATA RESULTS\n",
      "Mean Absolute Error on Train data :  1.874646958041671\n",
      "Mean Squared Error on Train data :  6.930029176982028\n",
      "Training Set R squared score :  0.9187648281107407\n",
      "\n",
      "TEST DATA RESULTS\n",
      "Mean Absolute Error on Test data :  2.887917049591466\n",
      "Mean Squared Error on Test data :  18.34465663740978\n",
      "Test Set R squared score :  0.7754604931399167\n"
     ]
    }
   ],
   "source": [
    "my_preds_train = grid_search.predict(X_train)\n",
    "my_preds_test = grid_search.predict(X_test)\n",
    "\n",
    "print('TRAIN DATA RESULTS')\n",
    "print(\"Mean Absolute Error on Train data : \", mean_absolute_error(y_train, my_preds_train))\n",
    "print(\"Mean Squared Error on Train data : \", mean_squared_error(y_train, my_preds_train))\n",
    "print('Training Set R squared score : ', grid_search.score(X_train, y_train))\n",
    "\n",
    "print('\\nTEST DATA RESULTS')\n",
    "print(\"Mean Absolute Error on Test data : \", mean_absolute_error(y_test, my_preds_test))\n",
    "print(\"Mean Squared Error on Test data : \", mean_squared_error(y_test, my_preds_test))\n",
    "print('Test Set R squared score : ', grid_search.score(X_test, y_test))"
   ]
  },
  {
   "cell_type": "code",
   "execution_count": null,
   "metadata": {},
   "outputs": [],
   "source": []
  }
 ],
 "metadata": {
  "kernelspec": {
   "display_name": "Python 3 (ipykernel)",
   "language": "python",
   "name": "python3"
  },
  "language_info": {
   "codemirror_mode": {
    "name": "ipython",
    "version": 3
   },
   "file_extension": ".py",
   "mimetype": "text/x-python",
   "name": "python",
   "nbconvert_exporter": "python",
   "pygments_lexer": "ipython3",
   "version": "3.9.12"
  }
 },
 "nbformat": 4,
 "nbformat_minor": 4
}
