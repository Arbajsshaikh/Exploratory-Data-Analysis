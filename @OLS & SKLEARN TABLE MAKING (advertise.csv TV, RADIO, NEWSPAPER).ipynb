{
 "cells": [
  {
   "cell_type": "markdown",
   "id": "17826038",
   "metadata": {},
   "source": [
    "# NAME= ARBAJ SHAIKH"
   ]
  },
  {
   "cell_type": "code",
   "execution_count": 1,
   "id": "7376f93b",
   "metadata": {},
   "outputs": [],
   "source": [
    "import pandas as pd\n",
    "import numpy as np\n",
    "import matplotlib.pyplot as plt\n",
    "import seaborn as sns\n",
    "import statsmodels.api as sm\n",
    "import statsmodels.formula.api as smf"
   ]
  },
  {
   "cell_type": "code",
   "execution_count": 2,
   "id": "ac9a36c8",
   "metadata": {},
   "outputs": [
    {
     "data": {
      "text/html": [
       "<div>\n",
       "<style scoped>\n",
       "    .dataframe tbody tr th:only-of-type {\n",
       "        vertical-align: middle;\n",
       "    }\n",
       "\n",
       "    .dataframe tbody tr th {\n",
       "        vertical-align: top;\n",
       "    }\n",
       "\n",
       "    .dataframe thead th {\n",
       "        text-align: right;\n",
       "    }\n",
       "</style>\n",
       "<table border=\"1\" class=\"dataframe\">\n",
       "  <thead>\n",
       "    <tr style=\"text-align: right;\">\n",
       "      <th></th>\n",
       "      <th>TV</th>\n",
       "      <th>Radio</th>\n",
       "      <th>Newspaper</th>\n",
       "      <th>Sales</th>\n",
       "    </tr>\n",
       "  </thead>\n",
       "  <tbody>\n",
       "    <tr>\n",
       "      <th>1</th>\n",
       "      <td>230.1</td>\n",
       "      <td>37.8</td>\n",
       "      <td>69.2</td>\n",
       "      <td>22.1</td>\n",
       "    </tr>\n",
       "    <tr>\n",
       "      <th>2</th>\n",
       "      <td>44.5</td>\n",
       "      <td>39.3</td>\n",
       "      <td>45.1</td>\n",
       "      <td>10.4</td>\n",
       "    </tr>\n",
       "    <tr>\n",
       "      <th>3</th>\n",
       "      <td>17.2</td>\n",
       "      <td>45.9</td>\n",
       "      <td>69.3</td>\n",
       "      <td>9.3</td>\n",
       "    </tr>\n",
       "    <tr>\n",
       "      <th>4</th>\n",
       "      <td>151.5</td>\n",
       "      <td>41.3</td>\n",
       "      <td>58.5</td>\n",
       "      <td>18.5</td>\n",
       "    </tr>\n",
       "    <tr>\n",
       "      <th>5</th>\n",
       "      <td>180.8</td>\n",
       "      <td>10.8</td>\n",
       "      <td>58.4</td>\n",
       "      <td>12.9</td>\n",
       "    </tr>\n",
       "    <tr>\n",
       "      <th>...</th>\n",
       "      <td>...</td>\n",
       "      <td>...</td>\n",
       "      <td>...</td>\n",
       "      <td>...</td>\n",
       "    </tr>\n",
       "    <tr>\n",
       "      <th>196</th>\n",
       "      <td>38.2</td>\n",
       "      <td>3.7</td>\n",
       "      <td>13.8</td>\n",
       "      <td>7.6</td>\n",
       "    </tr>\n",
       "    <tr>\n",
       "      <th>197</th>\n",
       "      <td>94.2</td>\n",
       "      <td>4.9</td>\n",
       "      <td>8.1</td>\n",
       "      <td>9.7</td>\n",
       "    </tr>\n",
       "    <tr>\n",
       "      <th>198</th>\n",
       "      <td>177.0</td>\n",
       "      <td>9.3</td>\n",
       "      <td>6.4</td>\n",
       "      <td>12.8</td>\n",
       "    </tr>\n",
       "    <tr>\n",
       "      <th>199</th>\n",
       "      <td>283.6</td>\n",
       "      <td>42.0</td>\n",
       "      <td>66.2</td>\n",
       "      <td>25.5</td>\n",
       "    </tr>\n",
       "    <tr>\n",
       "      <th>200</th>\n",
       "      <td>232.1</td>\n",
       "      <td>8.6</td>\n",
       "      <td>8.7</td>\n",
       "      <td>13.4</td>\n",
       "    </tr>\n",
       "  </tbody>\n",
       "</table>\n",
       "<p>200 rows × 4 columns</p>\n",
       "</div>"
      ],
      "text/plain": [
       "        TV  Radio  Newspaper  Sales\n",
       "1    230.1   37.8       69.2   22.1\n",
       "2     44.5   39.3       45.1   10.4\n",
       "3     17.2   45.9       69.3    9.3\n",
       "4    151.5   41.3       58.5   18.5\n",
       "5    180.8   10.8       58.4   12.9\n",
       "..     ...    ...        ...    ...\n",
       "196   38.2    3.7       13.8    7.6\n",
       "197   94.2    4.9        8.1    9.7\n",
       "198  177.0    9.3        6.4   12.8\n",
       "199  283.6   42.0       66.2   25.5\n",
       "200  232.1    8.6        8.7   13.4\n",
       "\n",
       "[200 rows x 4 columns]"
      ]
     },
     "execution_count": 2,
     "metadata": {},
     "output_type": "execute_result"
    }
   ],
   "source": [
    "X=pd.read_csv('Advertising.csv',index_col=0)\n",
    "\n",
    "X"
   ]
  },
  {
   "cell_type": "code",
   "execution_count": 3,
   "id": "69bde32b",
   "metadata": {},
   "outputs": [],
   "source": [
    "x=X[['TV']]\n",
    "y=X[['Sales']]\n"
   ]
  },
  {
   "cell_type": "code",
   "execution_count": 4,
   "id": "302ec331",
   "metadata": {},
   "outputs": [
    {
     "name": "stderr",
     "output_type": "stream",
     "text": [
      "C:\\Users\\Arbaj\\anaconda3\\lib\\site-packages\\statsmodels\\tsa\\tsatools.py:142: FutureWarning: In a future version of pandas all arguments of concat except for the argument 'objs' will be keyword-only\n",
      "  x = pd.concat(x[::order], 1)\n"
     ]
    }
   ],
   "source": [
    "x=sm.add_constant(x)"
   ]
  },
  {
   "cell_type": "code",
   "execution_count": 5,
   "id": "f9bd24ae",
   "metadata": {},
   "outputs": [],
   "source": [
    "reg=sm.OLS(y,x)\n",
    "model=reg.fit()\n",
    "y_pred=model.predict(x)\n"
   ]
  },
  {
   "cell_type": "code",
   "execution_count": 6,
   "id": "f30823e9",
   "metadata": {},
   "outputs": [],
   "source": [
    "y_mean=X['Sales'].mean()\n"
   ]
  },
  {
   "cell_type": "code",
   "execution_count": 7,
   "id": "d3bc427b",
   "metadata": {},
   "outputs": [],
   "source": [
    "squared_error=pd.Series((y_mean-X['Sales'])**2)\n",
    "pred_error=pd.Series((y_pred-X['Sales']))**2"
   ]
  },
  {
   "cell_type": "code",
   "execution_count": 8,
   "id": "8adf268d",
   "metadata": {},
   "outputs": [
    {
     "data": {
      "text/plain": [
       "(5417.14875, 2102.530583131351)"
      ]
     },
     "execution_count": 8,
     "metadata": {},
     "output_type": "execute_result"
    }
   ],
   "source": [
    "SSE_mean=np.sum((y_mean-X['Sales'])**2)\n",
    "SSE_pred=np.sum((y_pred-X['Sales'])**2)\n",
    "SSE_mean,SSE_pred"
   ]
  },
  {
   "cell_type": "code",
   "execution_count": 9,
   "id": "40351ce8",
   "metadata": {},
   "outputs": [
    {
     "data": {
      "image/png": "[encoded data removed]",
      "text/plain": [
       "<Figure size 432x288 with 1 Axes>"
      ]
     },
     "metadata": {
      "needs_background": "light"
     },
     "output_type": "display_data"
    },
    {
     "data": {
      "image/png": "[encoded data removed]",
      "text/plain": [
       "<Figure size 432x288 with 1 Axes>"
      ]
     },
     "metadata": {
      "needs_background": "light"
     },
     "output_type": "display_data"
    }
   ],
   "source": [
    "squared_error.plot(kind='hist')\n",
    "plt.title('squared error')\n",
    "plt.show()\n",
    "pred_error.plot(kind='hist')\n",
    "plt.title('pred_error')\n",
    "plt.show()"
   ]
  },
  {
   "cell_type": "code",
   "execution_count": 10,
   "id": "a6bd368d",
   "metadata": {},
   "outputs": [
    {
     "data": {
      "text/plain": [
       "0.6118750508500711"
      ]
     },
     "execution_count": 10,
     "metadata": {},
     "output_type": "execute_result"
    }
   ],
   "source": [
    "(SSE_mean-SSE_pred)/SSE_mean"
   ]
  },
  {
   "cell_type": "code",
   "execution_count": 11,
   "id": "c4bf062d",
   "metadata": {},
   "outputs": [
    {
     "data": {
      "text/plain": [
       "(10.512652915656753, 2.549806038927487)"
      ]
     },
     "execution_count": 11,
     "metadata": {},
     "output_type": "execute_result"
    }
   ],
   "source": [
    "from sklearn.metrics import mean_squared_error,mean_absolute_error\n",
    "MSE=mean_squared_error(y_pred,y)\n",
    "MAE=mean_absolute_error(y_pred,y)\n",
    "MSE,MAE"
   ]
  },
  {
   "cell_type": "code",
   "execution_count": null,
   "id": "e6b6e1c0",
   "metadata": {},
   "outputs": [],
   "source": []
  },
  {
   "cell_type": "code",
   "execution_count": 12,
   "id": "dd413132",
   "metadata": {},
   "outputs": [
    {
     "data": {
      "text/plain": [
       "3.2423221486546883"
      ]
     },
     "execution_count": 12,
     "metadata": {},
     "output_type": "execute_result"
    }
   ],
   "source": [
    "RMSE=np.sqrt(MSE)\n",
    "RMSE"
   ]
  },
  {
   "cell_type": "code",
   "execution_count": 13,
   "id": "de70e5dd",
   "metadata": {},
   "outputs": [
    {
     "data": {
      "text/plain": [
       "0.6118750508500712"
      ]
     },
     "execution_count": 13,
     "metadata": {},
     "output_type": "execute_result"
    }
   ],
   "source": [
    "r_square=1 - (SSE_pred/SSE_mean)\n",
    "r_square"
   ]
  },
  {
   "cell_type": "code",
   "execution_count": 14,
   "id": "27a3245a",
   "metadata": {},
   "outputs": [
    {
     "data": {
      "text/plain": [
       "0.6079346960363663"
      ]
     },
     "execution_count": 14,
     "metadata": {},
     "output_type": "execute_result"
    }
   ],
   "source": [
    "#Adjusted R2 = 1 – [(1-R2)*(n-1)/(n-k-1)]\n",
    "\n",
    "#where:\n",
    "\n",
    "#R2: The R2 of the model= (model.score(x, y)) but this isnt in OLS so use (r_square)\n",
    "#n: The number of observations\n",
    "#k: The number of predictor variables\n",
    "\n",
    "Adjusted_r2= 1 - (1-r_square)*(len(y)-1)/(len(y)-x.shape[1]-1)\n",
    "Adjusted_r2"
   ]
  },
  {
   "cell_type": "code",
   "execution_count": 15,
   "id": "5d1a1818",
   "metadata": {},
   "outputs": [
    {
     "name": "stdout",
     "output_type": "stream",
     "text": [
      "10.512652915656753 2.549806038927487 3.2423221486546883 0.6118750508500712 0.6079346960363663\n"
     ]
    }
   ],
   "source": [
    "print(MSE,MAE,RMSE,r_square,Adjusted_r2)"
   ]
  },
  {
   "cell_type": "code",
   "execution_count": null,
   "id": "67bf8bf7",
   "metadata": {},
   "outputs": [],
   "source": []
  },
  {
   "cell_type": "code",
   "execution_count": null,
   "id": "05732080",
   "metadata": {},
   "outputs": [],
   "source": []
  },
  {
   "cell_type": "code",
   "execution_count": null,
   "id": "b5c03982",
   "metadata": {},
   "outputs": [],
   "source": []
  },
  {
   "cell_type": "code",
   "execution_count": null,
   "id": "d884b218",
   "metadata": {},
   "outputs": [],
   "source": []
  },
  {
   "cell_type": "code",
   "execution_count": 16,
   "id": "62001389",
   "metadata": {},
   "outputs": [],
   "source": [
    "xr=X[['Radio']]\n",
    "yr=X[['Sales']]"
   ]
  },
  {
   "cell_type": "code",
   "execution_count": 17,
   "id": "5061a6a7",
   "metadata": {},
   "outputs": [
    {
     "name": "stderr",
     "output_type": "stream",
     "text": [
      "C:\\Users\\Arbaj\\anaconda3\\lib\\site-packages\\statsmodels\\tsa\\tsatools.py:142: FutureWarning: In a future version of pandas all arguments of concat except for the argument 'objs' will be keyword-only\n",
      "  x = pd.concat(x[::order], 1)\n"
     ]
    }
   ],
   "source": [
    "xr=sm.add_constant(xr)"
   ]
  },
  {
   "cell_type": "code",
   "execution_count": 18,
   "id": "7b429d3a",
   "metadata": {},
   "outputs": [],
   "source": [
    "regr=sm.OLS(yr,xr)\n",
    "modelr=regr.fit()\n",
    "yr_pred=modelr.predict(xr)"
   ]
  },
  {
   "cell_type": "code",
   "execution_count": 19,
   "id": "b4d6fa81",
   "metadata": {},
   "outputs": [
    {
     "data": {
      "text/plain": [
       "(5417.14875, 3618.4795490250876)"
      ]
     },
     "execution_count": 19,
     "metadata": {},
     "output_type": "execute_result"
    }
   ],
   "source": [
    "yr_mean=X['Sales'].mean()\n",
    "SSEr_mean=np.sum((yr_mean-X['Sales'])**2)\n",
    "SSEr_pred=np.sum((yr_pred-X['Sales'])**2)\n",
    "SSEr_mean,SSEr_pred"
   ]
  },
  {
   "cell_type": "code",
   "execution_count": 20,
   "id": "19c9e828",
   "metadata": {},
   "outputs": [
    {
     "data": {
      "image/png": "[encoded data removed]",
      "text/plain": [
       "<Figure size 432x288 with 1 Axes>"
      ]
     },
     "metadata": {
      "needs_background": "light"
     },
     "output_type": "display_data"
    },
    {
     "data": {
      "image/png": "[encoded data removed]",
      "text/plain": [
       "<Figure size 432x288 with 1 Axes>"
      ]
     },
     "metadata": {
      "needs_background": "light"
     },
     "output_type": "display_data"
    }
   ],
   "source": [
    "sq_er=pd.Series((yr_mean-X['Sales'])**2)\n",
    "pr_er=pd.Series((yr_pred-X['Sales'])**2)\n",
    "sq_er.plot(kind='hist')\n",
    "plt.title('squared error for radio')\n",
    "plt.show()\n",
    "pr_er.plot(kind='hist')\n",
    "plt.title('pred_error for radio')\n",
    "plt.show()"
   ]
  },
  {
   "cell_type": "code",
   "execution_count": 21,
   "id": "754226b2",
   "metadata": {},
   "outputs": [
    {
     "data": {
      "text/plain": [
       "(18.09239774512544, 3.320218797642066)"
      ]
     },
     "execution_count": 21,
     "metadata": {},
     "output_type": "execute_result"
    }
   ],
   "source": [
    "from sklearn.metrics import mean_squared_error,mean_absolute_error\n",
    "MSEr=mean_squared_error(yr,yr_pred)\n",
    "MAEr=mean_absolute_error(yr,yr_pred)\n",
    "MSEr,MAEr"
   ]
  },
  {
   "cell_type": "code",
   "execution_count": 22,
   "id": "5e3104bf",
   "metadata": {},
   "outputs": [
    {
     "data": {
      "text/plain": [
       "4.2535159274564185"
      ]
     },
     "execution_count": 22,
     "metadata": {},
     "output_type": "execute_result"
    }
   ],
   "source": [
    "rmser=np.sqrt(MSEr)\n",
    "rmser"
   ]
  },
  {
   "cell_type": "code",
   "execution_count": 23,
   "id": "62e12aba",
   "metadata": {},
   "outputs": [
    {
     "data": {
      "text/plain": [
       "0.33203245544529536"
      ]
     },
     "execution_count": 23,
     "metadata": {},
     "output_type": "execute_result"
    }
   ],
   "source": [
    "r_squarer=1-(SSEr_pred/SSEr_mean)\n",
    "r_squarer\n"
   ]
  },
  {
   "cell_type": "code",
   "execution_count": 24,
   "id": "e79b705c",
   "metadata": {},
   "outputs": [
    {
     "data": {
      "text/plain": [
       "0.32525105905387697"
      ]
     },
     "execution_count": 24,
     "metadata": {},
     "output_type": "execute_result"
    }
   ],
   "source": [
    "adj_r_square_for_radio=1-(1-r_squarer)*(len(yr)-1)/(len(yr)-xr.shape[1]-1)\n",
    "adj_r_square_for_radio"
   ]
  },
  {
   "cell_type": "code",
   "execution_count": 25,
   "id": "28fbf25c",
   "metadata": {},
   "outputs": [
    {
     "name": "stdout",
     "output_type": "stream",
     "text": [
      "18.09239774512544 3.320218797642066 4.2535159274564185 0.33203245544529536 0.32525105905387697\n"
     ]
    }
   ],
   "source": [
    "print(MSEr,MAEr,rmser,r_squarer,adj_r_square_for_radio)"
   ]
  },
  {
   "cell_type": "code",
   "execution_count": null,
   "id": "a13bd0e6",
   "metadata": {},
   "outputs": [],
   "source": []
  },
  {
   "cell_type": "code",
   "execution_count": null,
   "id": "d2f91388",
   "metadata": {},
   "outputs": [],
   "source": []
  },
  {
   "cell_type": "code",
   "execution_count": null,
   "id": "db236840",
   "metadata": {},
   "outputs": [],
   "source": []
  },
  {
   "cell_type": "code",
   "execution_count": null,
   "id": "e4329b85",
   "metadata": {},
   "outputs": [],
   "source": []
  },
  {
   "cell_type": "code",
   "execution_count": 26,
   "id": "58b5b94e",
   "metadata": {},
   "outputs": [],
   "source": [
    "xn=X[['Newspaper']]\n",
    "yn=X[['Sales']]\n"
   ]
  },
  {
   "cell_type": "code",
   "execution_count": 27,
   "id": "eecafe2f",
   "metadata": {},
   "outputs": [
    {
     "name": "stderr",
     "output_type": "stream",
     "text": [
      "C:\\Users\\Arbaj\\anaconda3\\lib\\site-packages\\statsmodels\\tsa\\tsatools.py:142: FutureWarning: In a future version of pandas all arguments of concat except for the argument 'objs' will be keyword-only\n",
      "  x = pd.concat(x[::order], 1)\n"
     ]
    }
   ],
   "source": [
    "xn=sm.add_constant(xn)"
   ]
  },
  {
   "cell_type": "code",
   "execution_count": 28,
   "id": "c04523f8",
   "metadata": {},
   "outputs": [],
   "source": [
    "regn=sm.OLS(yn,xn)\n",
    "modeln=regn.fit()\n",
    "yn_pred=modeln.predict(xn)"
   ]
  },
  {
   "cell_type": "code",
   "execution_count": 29,
   "id": "68fdb098",
   "metadata": {},
   "outputs": [],
   "source": [
    "yn_mean=X['Sales'].mean()"
   ]
  },
  {
   "cell_type": "code",
   "execution_count": 30,
   "id": "2c2ac49d",
   "metadata": {},
   "outputs": [
    {
     "data": {
      "image/png": "[encoded data removed]",
      "text/plain": [
       "<Figure size 432x288 with 1 Axes>"
      ]
     },
     "metadata": {
      "needs_background": "light"
     },
     "output_type": "display_data"
    },
    {
     "data": {
      "image/png": "[encoded data removed]",
      "text/plain": [
       "<Figure size 432x288 with 1 Axes>"
      ]
     },
     "metadata": {
      "needs_background": "light"
     },
     "output_type": "display_data"
    }
   ],
   "source": [
    "sq_en=pd.Series((yn_mean-X['Sales'])**2)\n",
    "pred_en=pd.Series((yn_pred-X['Sales'])**2)\n",
    "sq_en.plot(kind='hist')\n",
    "plt.title('square error by mean on newspaper')\n",
    "plt.show()\n",
    "pred_en.plot(kind='hist')\n",
    "plt.title('predicted squared error by newspaper')\n",
    "plt.show()"
   ]
  },
  {
   "cell_type": "code",
   "execution_count": 31,
   "id": "a735aeb5",
   "metadata": {},
   "outputs": [
    {
     "data": {
      "text/plain": [
       "(5417.14875, 5134.804544111939)"
      ]
     },
     "execution_count": 31,
     "metadata": {},
     "output_type": "execute_result"
    }
   ],
   "source": [
    "SSE_MN=np.sum(((yn_mean-X['Sales'])**2))\n",
    "SSE_PN=np.sum((yn_pred-X['Sales'])**2)\n",
    "SSE_MN,SSE_PN"
   ]
  },
  {
   "cell_type": "code",
   "execution_count": 32,
   "id": "57dadbbd",
   "metadata": {},
   "outputs": [
    {
     "data": {
      "text/plain": [
       "0.05212044544430516"
      ]
     },
     "execution_count": 32,
     "metadata": {},
     "output_type": "execute_result"
    }
   ],
   "source": [
    "r_squaren=1-(SSE_PN/SSE_MN)\n",
    "r_squaren"
   ]
  },
  {
   "cell_type": "code",
   "execution_count": 33,
   "id": "9d824662",
   "metadata": {},
   "outputs": [
    {
     "data": {
      "text/plain": [
       "(25.674022720559698, 4.1465597438384885)"
      ]
     },
     "execution_count": 33,
     "metadata": {},
     "output_type": "execute_result"
    }
   ],
   "source": [
    "MSE_N=mean_squared_error(yn,yn_pred)\n",
    "MAE_N=mean_absolute_error(yn,yn_pred)\n",
    "MSE_N,MAE_N"
   ]
  },
  {
   "cell_type": "code",
   "execution_count": 34,
   "id": "bd008d80",
   "metadata": {},
   "outputs": [
    {
     "data": {
      "text/plain": [
       "5.066953988399707"
      ]
     },
     "execution_count": 34,
     "metadata": {},
     "output_type": "execute_result"
    }
   ],
   "source": [
    "RMSE_N=np.sqrt(MSE_N)\n",
    "RMSE_N"
   ]
  },
  {
   "cell_type": "code",
   "execution_count": 35,
   "id": "c977da00",
   "metadata": {},
   "outputs": [
    {
     "data": {
      "text/plain": [
       "0.04249730275846053"
      ]
     },
     "execution_count": 35,
     "metadata": {},
     "output_type": "execute_result"
    }
   ],
   "source": [
    "ADJ_Rn=1-(1-r_squaren)*(len(y)-1)/(len(y)-xn.shape[1]-1)\n",
    "ADJ_Rn"
   ]
  },
  {
   "cell_type": "code",
   "execution_count": 36,
   "id": "5ec0bbd0",
   "metadata": {},
   "outputs": [
    {
     "name": "stdout",
     "output_type": "stream",
     "text": [
      "25.674022720559698 4.1465597438384885 0.05212044544430516 5.066953988399707 0.04249730275846053\n"
     ]
    }
   ],
   "source": [
    "print(MSE_N,MAE_N,r_squaren,RMSE_N,ADJ_Rn)"
   ]
  },
  {
   "cell_type": "code",
   "execution_count": null,
   "id": "2ac0ea99",
   "metadata": {},
   "outputs": [],
   "source": []
  },
  {
   "cell_type": "code",
   "execution_count": null,
   "id": "c3de7306",
   "metadata": {},
   "outputs": [],
   "source": []
  },
  {
   "cell_type": "code",
   "execution_count": null,
   "id": "c21a0c67",
   "metadata": {},
   "outputs": [],
   "source": []
  },
  {
   "cell_type": "code",
   "execution_count": null,
   "id": "e5f9857f",
   "metadata": {},
   "outputs": [],
   "source": []
  },
  {
   "cell_type": "code",
   "execution_count": 37,
   "id": "33759c54",
   "metadata": {},
   "outputs": [
    {
     "data": {
      "text/html": [
       "<div>\n",
       "<style scoped>\n",
       "    .dataframe tbody tr th:only-of-type {\n",
       "        vertical-align: middle;\n",
       "    }\n",
       "\n",
       "    .dataframe tbody tr th {\n",
       "        vertical-align: top;\n",
       "    }\n",
       "\n",
       "    .dataframe thead th {\n",
       "        text-align: right;\n",
       "    }\n",
       "</style>\n",
       "<table border=\"1\" class=\"dataframe\">\n",
       "  <thead>\n",
       "    <tr style=\"text-align: right;\">\n",
       "      <th></th>\n",
       "      <th>TV</th>\n",
       "      <th>Radio</th>\n",
       "      <th>Newspaper</th>\n",
       "      <th>Sales</th>\n",
       "    </tr>\n",
       "  </thead>\n",
       "  <tbody>\n",
       "    <tr>\n",
       "      <th>1</th>\n",
       "      <td>230.1</td>\n",
       "      <td>37.8</td>\n",
       "      <td>69.2</td>\n",
       "      <td>22.1</td>\n",
       "    </tr>\n",
       "    <tr>\n",
       "      <th>2</th>\n",
       "      <td>44.5</td>\n",
       "      <td>39.3</td>\n",
       "      <td>45.1</td>\n",
       "      <td>10.4</td>\n",
       "    </tr>\n",
       "    <tr>\n",
       "      <th>3</th>\n",
       "      <td>17.2</td>\n",
       "      <td>45.9</td>\n",
       "      <td>69.3</td>\n",
       "      <td>9.3</td>\n",
       "    </tr>\n",
       "    <tr>\n",
       "      <th>4</th>\n",
       "      <td>151.5</td>\n",
       "      <td>41.3</td>\n",
       "      <td>58.5</td>\n",
       "      <td>18.5</td>\n",
       "    </tr>\n",
       "    <tr>\n",
       "      <th>5</th>\n",
       "      <td>180.8</td>\n",
       "      <td>10.8</td>\n",
       "      <td>58.4</td>\n",
       "      <td>12.9</td>\n",
       "    </tr>\n",
       "    <tr>\n",
       "      <th>...</th>\n",
       "      <td>...</td>\n",
       "      <td>...</td>\n",
       "      <td>...</td>\n",
       "      <td>...</td>\n",
       "    </tr>\n",
       "    <tr>\n",
       "      <th>196</th>\n",
       "      <td>38.2</td>\n",
       "      <td>3.7</td>\n",
       "      <td>13.8</td>\n",
       "      <td>7.6</td>\n",
       "    </tr>\n",
       "    <tr>\n",
       "      <th>197</th>\n",
       "      <td>94.2</td>\n",
       "      <td>4.9</td>\n",
       "      <td>8.1</td>\n",
       "      <td>9.7</td>\n",
       "    </tr>\n",
       "    <tr>\n",
       "      <th>198</th>\n",
       "      <td>177.0</td>\n",
       "      <td>9.3</td>\n",
       "      <td>6.4</td>\n",
       "      <td>12.8</td>\n",
       "    </tr>\n",
       "    <tr>\n",
       "      <th>199</th>\n",
       "      <td>283.6</td>\n",
       "      <td>42.0</td>\n",
       "      <td>66.2</td>\n",
       "      <td>25.5</td>\n",
       "    </tr>\n",
       "    <tr>\n",
       "      <th>200</th>\n",
       "      <td>232.1</td>\n",
       "      <td>8.6</td>\n",
       "      <td>8.7</td>\n",
       "      <td>13.4</td>\n",
       "    </tr>\n",
       "  </tbody>\n",
       "</table>\n",
       "<p>200 rows × 4 columns</p>\n",
       "</div>"
      ],
      "text/plain": [
       "        TV  Radio  Newspaper  Sales\n",
       "1    230.1   37.8       69.2   22.1\n",
       "2     44.5   39.3       45.1   10.4\n",
       "3     17.2   45.9       69.3    9.3\n",
       "4    151.5   41.3       58.5   18.5\n",
       "5    180.8   10.8       58.4   12.9\n",
       "..     ...    ...        ...    ...\n",
       "196   38.2    3.7       13.8    7.6\n",
       "197   94.2    4.9        8.1    9.7\n",
       "198  177.0    9.3        6.4   12.8\n",
       "199  283.6   42.0       66.2   25.5\n",
       "200  232.1    8.6        8.7   13.4\n",
       "\n",
       "[200 rows x 4 columns]"
      ]
     },
     "execution_count": 37,
     "metadata": {},
     "output_type": "execute_result"
    }
   ],
   "source": [
    "X"
   ]
  },
  {
   "cell_type": "code",
   "execution_count": 38,
   "id": "755e6427",
   "metadata": {},
   "outputs": [
    {
     "data": {
      "text/plain": [
       "<AxesSubplot:>"
      ]
     },
     "execution_count": 38,
     "metadata": {},
     "output_type": "execute_result"
    },
    {
     "data": {
      "image/png": "[encoded data removed]",
      "text/plain": [
       "<Figure size 432x288 with 2 Axes>"
      ]
     },
     "metadata": {
      "needs_background": "light"
     },
     "output_type": "display_data"
    }
   ],
   "source": [
    "sns.heatmap(X.corr(),annot=True)"
   ]
  },
  {
   "cell_type": "code",
   "execution_count": 39,
   "id": "89fa40f1",
   "metadata": {},
   "outputs": [
    {
     "data": {
      "image/png": "[encoded data removed]",
      "text/plain": [
       "<Figure size 1152x576 with 3 Axes>"
      ]
     },
     "metadata": {
      "needs_background": "light"
     },
     "output_type": "display_data"
    }
   ],
   "source": [
    "fig,axs=plt.subplots(1,3)\n",
    "X.plot(kind='scatter',x='TV',y='Sales',ax=axs[0],figsize=(16,8))\n",
    "X.plot(kind='scatter',x='Radio',y='Sales',ax=axs[1])\n",
    "X.plot(kind='scatter',x='Newspaper',y='Sales',ax=axs[2]);\n",
    "\n",
    "\n"
   ]
  },
  {
   "cell_type": "code",
   "execution_count": 40,
   "id": "12f21599",
   "metadata": {},
   "outputs": [],
   "source": [
    "x_values1=X[['TV']].values\n",
    "y_values1=X[['Sales']].values\n"
   ]
  },
  {
   "cell_type": "code",
   "execution_count": 41,
   "id": "2cae6fe8",
   "metadata": {},
   "outputs": [],
   "source": [
    "from sklearn.model_selection import train_test_split\n",
    "X_train, X_test, y_train, y_test = train_test_split(x_values1,y_values1, random_state = 6)"
   ]
  },
  {
   "cell_type": "code",
   "execution_count": 42,
   "id": "5fcb7ce8",
   "metadata": {},
   "outputs": [
    {
     "data": {
      "text/plain": [
       "array([17.17250484])"
      ]
     },
     "execution_count": 42,
     "metadata": {},
     "output_type": "execute_result"
    }
   ],
   "source": [
    "from sklearn.linear_model import LinearRegression\n",
    "A=LinearRegression()\n",
    "model1v=A.fit(X_train,y_train)\n",
    "y_pred1=model1v.predict(X_test)\n",
    "y_pred1[1]                               #see this after stats model it is changed and reduced"
   ]
  },
  {
   "cell_type": "code",
   "execution_count": 101,
   "id": "295f90d5",
   "metadata": {},
   "outputs": [
    {
     "ename": "AttributeError",
     "evalue": "'OLSResults' object has no attribute 'score'",
     "output_type": "error",
     "traceback": [
      "\u001b[1;31m---------------------------------------------------------------------------\u001b[0m",
      "\u001b[1;31mAttributeError\u001b[0m                            Traceback (most recent call last)",
      "\u001b[1;32m~\\AppData\\Local\\Temp/ipykernel_16388/1917385306.py\u001b[0m in \u001b[0;36m<module>\u001b[1;34m\u001b[0m\n\u001b[0;32m      3\u001b[0m \u001b[0mMAEtr\u001b[0m\u001b[1;33m=\u001b[0m\u001b[0mmean_absolute_error\u001b[0m\u001b[1;33m(\u001b[0m\u001b[0my_predtr\u001b[0m\u001b[1;33m,\u001b[0m\u001b[0my_train\u001b[0m\u001b[1;33m)\u001b[0m\u001b[1;33m\u001b[0m\u001b[1;33m\u001b[0m\u001b[0m\n\u001b[0;32m      4\u001b[0m \u001b[0mrmsetr\u001b[0m\u001b[1;33m=\u001b[0m\u001b[0mnp\u001b[0m\u001b[1;33m.\u001b[0m\u001b[0msqrt\u001b[0m\u001b[1;33m(\u001b[0m\u001b[0mMSEtr\u001b[0m\u001b[1;33m)\u001b[0m\u001b[1;33m\u001b[0m\u001b[1;33m\u001b[0m\u001b[0m\n\u001b[1;32m----> 5\u001b[1;33m \u001b[0msctr\u001b[0m\u001b[1;33m=\u001b[0m\u001b[0mmodel\u001b[0m\u001b[1;33m.\u001b[0m\u001b[0mscore\u001b[0m\u001b[1;33m(\u001b[0m\u001b[0mX_train\u001b[0m\u001b[1;33m,\u001b[0m\u001b[0my_train\u001b[0m\u001b[1;33m)\u001b[0m\u001b[1;33m\u001b[0m\u001b[1;33m\u001b[0m\u001b[0m\n\u001b[0m\u001b[0;32m      6\u001b[0m \u001b[1;33m\u001b[0m\u001b[0m\n\u001b[0;32m      7\u001b[0m \u001b[0mMSEtr\u001b[0m\u001b[1;33m,\u001b[0m\u001b[0mMAEtr\u001b[0m\u001b[1;33m,\u001b[0m\u001b[0mrmsert\u001b[0m\u001b[1;33m,\u001b[0m\u001b[0mscrt\u001b[0m\u001b[1;33m\u001b[0m\u001b[1;33m\u001b[0m\u001b[0m\n",
      "\u001b[1;32m~\\anaconda3\\lib\\site-packages\\statsmodels\\base\\wrapper.py\u001b[0m in \u001b[0;36m__getattribute__\u001b[1;34m(self, attr)\u001b[0m\n\u001b[0;32m     32\u001b[0m             \u001b[1;32mpass\u001b[0m\u001b[1;33m\u001b[0m\u001b[1;33m\u001b[0m\u001b[0m\n\u001b[0;32m     33\u001b[0m \u001b[1;33m\u001b[0m\u001b[0m\n\u001b[1;32m---> 34\u001b[1;33m         \u001b[0mobj\u001b[0m \u001b[1;33m=\u001b[0m \u001b[0mgetattr\u001b[0m\u001b[1;33m(\u001b[0m\u001b[0mresults\u001b[0m\u001b[1;33m,\u001b[0m \u001b[0mattr\u001b[0m\u001b[1;33m)\u001b[0m\u001b[1;33m\u001b[0m\u001b[1;33m\u001b[0m\u001b[0m\n\u001b[0m\u001b[0;32m     35\u001b[0m         \u001b[0mdata\u001b[0m \u001b[1;33m=\u001b[0m \u001b[0mresults\u001b[0m\u001b[1;33m.\u001b[0m\u001b[0mmodel\u001b[0m\u001b[1;33m.\u001b[0m\u001b[0mdata\u001b[0m\u001b[1;33m\u001b[0m\u001b[1;33m\u001b[0m\u001b[0m\n\u001b[0;32m     36\u001b[0m         \u001b[0mhow\u001b[0m \u001b[1;33m=\u001b[0m \u001b[0mself\u001b[0m\u001b[1;33m.\u001b[0m\u001b[0m_wrap_attrs\u001b[0m\u001b[1;33m.\u001b[0m\u001b[0mget\u001b[0m\u001b[1;33m(\u001b[0m\u001b[0mattr\u001b[0m\u001b[1;33m)\u001b[0m\u001b[1;33m\u001b[0m\u001b[1;33m\u001b[0m\u001b[0m\n",
      "\u001b[1;31mAttributeError\u001b[0m: 'OLSResults' object has no attribute 'score'"
     ]
    }
   ],
   "source": [
    "y_predtr=model1v.predict(X_train)\n",
    "MSEtr=mean_squared_error(y_predtr,y_train)\n",
    "MAEtr=mean_absolute_error(y_predtr,y_train)\n",
    "rmsetr=np.sqrt(MSEtr)\n",
    "sctr=model.score(X_train,y_train)\n",
    "\n",
    "MSEtr,MAEtr,rmsert,scrt"
   ]
  },
  {
   "cell_type": "code",
   "execution_count": 43,
   "id": "f5c3e51d",
   "metadata": {},
   "outputs": [
    {
     "data": {
      "text/plain": [
       "array([6.70910349])"
      ]
     },
     "execution_count": 43,
     "metadata": {},
     "output_type": "execute_result"
    }
   ],
   "source": [
    "model1v.intercept_"
   ]
  },
  {
   "cell_type": "code",
   "execution_count": 44,
   "id": "c4113489",
   "metadata": {},
   "outputs": [
    {
     "data": {
      "text/plain": [
       "array([[0.04873499]])"
      ]
     },
     "execution_count": 44,
     "metadata": {},
     "output_type": "execute_result"
    }
   ],
   "source": [
    "model1v.coef_"
   ]
  },
  {
   "cell_type": "code",
   "execution_count": 45,
   "id": "426ef724",
   "metadata": {},
   "outputs": [
    {
     "data": {
      "text/html": [
       "<div>\n",
       "<style scoped>\n",
       "    .dataframe tbody tr th:only-of-type {\n",
       "        vertical-align: middle;\n",
       "    }\n",
       "\n",
       "    .dataframe tbody tr th {\n",
       "        vertical-align: top;\n",
       "    }\n",
       "\n",
       "    .dataframe thead th {\n",
       "        text-align: right;\n",
       "    }\n",
       "</style>\n",
       "<table border=\"1\" class=\"dataframe\">\n",
       "  <thead>\n",
       "    <tr style=\"text-align: right;\">\n",
       "      <th></th>\n",
       "      <th>TV</th>\n",
       "    </tr>\n",
       "  </thead>\n",
       "  <tbody>\n",
       "    <tr>\n",
       "      <th>0</th>\n",
       "      <td>0.7</td>\n",
       "    </tr>\n",
       "    <tr>\n",
       "      <th>1</th>\n",
       "      <td>296.4</td>\n",
       "    </tr>\n",
       "  </tbody>\n",
       "</table>\n",
       "</div>"
      ],
      "text/plain": [
       "      TV\n",
       "0    0.7\n",
       "1  296.4"
      ]
     },
     "execution_count": 45,
     "metadata": {},
     "output_type": "execute_result"
    }
   ],
   "source": [
    "o1=pd.DataFrame({'TV':[X.TV.min(),X.TV.max()]})\n",
    "o1"
   ]
  },
  {
   "cell_type": "code",
   "execution_count": 46,
   "id": "0173ac33",
   "metadata": {},
   "outputs": [],
   "source": [
    "o1_pred=model1v.predict(o1)"
   ]
  },
  {
   "cell_type": "code",
   "execution_count": 47,
   "id": "227b0f97",
   "metadata": {},
   "outputs": [
    {
     "data": {
      "text/plain": [
       "[<matplotlib.lines.Line2D at 0x16e922043d0>]"
      ]
     },
     "execution_count": 47,
     "metadata": {},
     "output_type": "execute_result"
    },
    {
     "data": {
      "image/png": "[encoded data removed]",
      "text/plain": [
       "<Figure size 432x288 with 1 Axes>"
      ]
     },
     "metadata": {
      "needs_background": "light"
     },
     "output_type": "display_data"
    }
   ],
   "source": [
    "X.plot(kind='scatter',x=\"TV\",y='Sales')\n",
    "plt.plot(o1,o1_pred,color='red')"
   ]
  },
  {
   "cell_type": "code",
   "execution_count": 48,
   "id": "08b0a390",
   "metadata": {},
   "outputs": [],
   "source": [
    "import statsmodels.formula.api as smf"
   ]
  },
  {
   "cell_type": "code",
   "execution_count": 49,
   "id": "c69158b2",
   "metadata": {},
   "outputs": [
    {
     "data": {
      "text/plain": [
       "Intercept    1.406300e-35\n",
       "TV           1.467390e-42\n",
       "dtype: float64"
      ]
     },
     "execution_count": 49,
     "metadata": {},
     "output_type": "execute_result"
    }
   ],
   "source": [
    "stats1model=smf.ols(formula='Sales ~ TV',data=X).fit()\n",
    "stats1model.pvalues"
   ]
  },
  {
   "cell_type": "markdown",
   "id": "a552eda8",
   "metadata": {},
   "source": [
    "### H0 : There is no relationship between independent(TV) variable and dependent(sales) variable\n",
    "\n",
    "### H1 : There is a relationship between independent(TV) variable and dependent(Sales) variable"
   ]
  },
  {
   "cell_type": "code",
   "execution_count": 50,
   "id": "293ecaea",
   "metadata": {},
   "outputs": [
    {
     "data": {
      "text/html": [
       "<table class=\"simpletable\">\n",
       "<caption>OLS Regression Results</caption>\n",
       "<tr>\n",
       "  <th>Dep. Variable:</th>          <td>Sales</td>      <th>  R-squared:         </th> <td>   0.612</td>\n",
       "</tr>\n",
       "<tr>\n",
       "  <th>Model:</th>                   <td>OLS</td>       <th>  Adj. R-squared:    </th> <td>   0.610</td>\n",
       "</tr>\n",
       "<tr>\n",
       "  <th>Method:</th>             <td>Least Squares</td>  <th>  F-statistic:       </th> <td>   312.1</td>\n",
       "</tr>\n",
       "<tr>\n",
       "  <th>Date:</th>             <td>Mon, 02 May 2022</td> <th>  Prob (F-statistic):</th> <td>1.47e-42</td>\n",
       "</tr>\n",
       "<tr>\n",
       "  <th>Time:</th>                 <td>08:15:55</td>     <th>  Log-Likelihood:    </th> <td> -519.05</td>\n",
       "</tr>\n",
       "<tr>\n",
       "  <th>No. Observations:</th>      <td>   200</td>      <th>  AIC:               </th> <td>   1042.</td>\n",
       "</tr>\n",
       "<tr>\n",
       "  <th>Df Residuals:</th>          <td>   198</td>      <th>  BIC:               </th> <td>   1049.</td>\n",
       "</tr>\n",
       "<tr>\n",
       "  <th>Df Model:</th>              <td>     1</td>      <th>                     </th>     <td> </td>   \n",
       "</tr>\n",
       "<tr>\n",
       "  <th>Covariance Type:</th>      <td>nonrobust</td>    <th>                     </th>     <td> </td>   \n",
       "</tr>\n",
       "</table>\n",
       "<table class=\"simpletable\">\n",
       "<tr>\n",
       "      <td></td>         <th>coef</th>     <th>std err</th>      <th>t</th>      <th>P>|t|</th>  <th>[0.025</th>    <th>0.975]</th>  \n",
       "</tr>\n",
       "<tr>\n",
       "  <th>Intercept</th> <td>    7.0326</td> <td>    0.458</td> <td>   15.360</td> <td> 0.000</td> <td>    6.130</td> <td>    7.935</td>\n",
       "</tr>\n",
       "<tr>\n",
       "  <th>TV</th>        <td>    0.0475</td> <td>    0.003</td> <td>   17.668</td> <td> 0.000</td> <td>    0.042</td> <td>    0.053</td>\n",
       "</tr>\n",
       "</table>\n",
       "<table class=\"simpletable\">\n",
       "<tr>\n",
       "  <th>Omnibus:</th>       <td> 0.531</td> <th>  Durbin-Watson:     </th> <td>   1.935</td>\n",
       "</tr>\n",
       "<tr>\n",
       "  <th>Prob(Omnibus):</th> <td> 0.767</td> <th>  Jarque-Bera (JB):  </th> <td>   0.669</td>\n",
       "</tr>\n",
       "<tr>\n",
       "  <th>Skew:</th>          <td>-0.089</td> <th>  Prob(JB):          </th> <td>   0.716</td>\n",
       "</tr>\n",
       "<tr>\n",
       "  <th>Kurtosis:</th>      <td> 2.779</td> <th>  Cond. No.          </th> <td>    338.</td>\n",
       "</tr>\n",
       "</table><br/><br/>Notes:<br/>[1] Standard Errors assume that the covariance matrix of the errors is correctly specified."
      ],
      "text/plain": [
       "<class 'statsmodels.iolib.summary.Summary'>\n",
       "\"\"\"\n",
       "                            OLS Regression Results                            \n",
       "==============================================================================\n",
       "Dep. Variable:                  Sales   R-squared:                       0.612\n",
       "Model:                            OLS   Adj. R-squared:                  0.610\n",
       "Method:                 Least Squares   F-statistic:                     312.1\n",
       "Date:                Mon, 02 May 2022   Prob (F-statistic):           1.47e-42\n",
       "Time:                        08:15:55   Log-Likelihood:                -519.05\n",
       "No. Observations:                 200   AIC:                             1042.\n",
       "Df Residuals:                     198   BIC:                             1049.\n",
       "Df Model:                           1                                         \n",
       "Covariance Type:            nonrobust                                         \n",
       "==============================================================================\n",
       "                 coef    std err          t      P>|t|      [0.025      0.975]\n",
       "------------------------------------------------------------------------------\n",
       "Intercept      7.0326      0.458     15.360      0.000       6.130       7.935\n",
       "TV             0.0475      0.003     17.668      0.000       0.042       0.053\n",
       "==============================================================================\n",
       "Omnibus:                        0.531   Durbin-Watson:                   1.935\n",
       "Prob(Omnibus):                  0.767   Jarque-Bera (JB):                0.669\n",
       "Skew:                          -0.089   Prob(JB):                        0.716\n",
       "Kurtosis:                       2.779   Cond. No.                         338.\n",
       "==============================================================================\n",
       "\n",
       "Notes:\n",
       "[1] Standard Errors assume that the covariance matrix of the errors is correctly specified.\n",
       "\"\"\""
      ]
     },
     "execution_count": 50,
     "metadata": {},
     "output_type": "execute_result"
    }
   ],
   "source": [
    "stats1model.summary()"
   ]
  },
  {
   "cell_type": "code",
   "execution_count": 51,
   "id": "afa8b626",
   "metadata": {},
   "outputs": [
    {
     "data": {
      "text/plain": [
       "array([17.17250484])"
      ]
     },
     "execution_count": 51,
     "metadata": {},
     "output_type": "execute_result"
    }
   ],
   "source": [
    "stats1_pred=model1v.predict(X_test)\n",
    "stats1_pred[1]                                 #see above y_pred1 value and notice differernce"
   ]
  },
  {
   "cell_type": "code",
   "execution_count": 52,
   "id": "12f4340f",
   "metadata": {},
   "outputs": [
    {
     "data": {
      "text/plain": [
       "2.469197684055691"
      ]
     },
     "execution_count": 52,
     "metadata": {},
     "output_type": "execute_result"
    }
   ],
   "source": [
    "MAE_1=mean_absolute_error(stats1_pred,y_test)\n",
    "MAE_1"
   ]
  },
  {
   "cell_type": "code",
   "execution_count": 53,
   "id": "c4dde22b",
   "metadata": {},
   "outputs": [
    {
     "data": {
      "text/plain": [
       "9.503191696866343"
      ]
     },
     "execution_count": 53,
     "metadata": {},
     "output_type": "execute_result"
    }
   ],
   "source": [
    "MSE_1=mean_squared_error(stats1_pred,y_test)\n",
    "MSE_1"
   ]
  },
  {
   "cell_type": "code",
   "execution_count": 54,
   "id": "273def50",
   "metadata": {},
   "outputs": [
    {
     "data": {
      "text/plain": [
       "3.0827247196054244"
      ]
     },
     "execution_count": 54,
     "metadata": {},
     "output_type": "execute_result"
    }
   ],
   "source": [
    "RMSE_1=np.sqrt(MSE_1)\n",
    "RMSE_1"
   ]
  },
  {
   "cell_type": "code",
   "execution_count": 55,
   "id": "0b5d0055",
   "metadata": {},
   "outputs": [
    {
     "data": {
      "text/plain": [
       "0.5600153407297688"
      ]
     },
     "execution_count": 55,
     "metadata": {},
     "output_type": "execute_result"
    }
   ],
   "source": [
    "R_SQUARE_1=model1v.score(X_test,y_test)\n",
    "R_SQUARE_1"
   ]
  },
  {
   "cell_type": "code",
   "execution_count": 56,
   "id": "7b79065b",
   "metadata": {},
   "outputs": [
    {
     "data": {
      "text/plain": [
       "0.5577931959859797"
      ]
     },
     "execution_count": 56,
     "metadata": {},
     "output_type": "execute_result"
    }
   ],
   "source": [
    "ADJ_R_1=1-(1-R_SQUARE_1)*(len(y_values1)-1)/(len(y_values1)-x_values1.shape[1]-1)\n",
    "ADJ_R_1"
   ]
  },
  {
   "cell_type": "code",
   "execution_count": null,
   "id": "6779e9a4",
   "metadata": {},
   "outputs": [],
   "source": []
  },
  {
   "cell_type": "code",
   "execution_count": null,
   "id": "969ff365",
   "metadata": {},
   "outputs": [],
   "source": []
  },
  {
   "cell_type": "code",
   "execution_count": null,
   "id": "f6e1b5ec",
   "metadata": {},
   "outputs": [],
   "source": []
  },
  {
   "cell_type": "code",
   "execution_count": null,
   "id": "bde9919a",
   "metadata": {},
   "outputs": [],
   "source": []
  },
  {
   "cell_type": "code",
   "execution_count": 57,
   "id": "52dd074e",
   "metadata": {},
   "outputs": [],
   "source": [
    "x_values2=X[['Radio']].values\n",
    "y_values2=X[['Sales']].values"
   ]
  },
  {
   "cell_type": "code",
   "execution_count": 58,
   "id": "66a6eb70",
   "metadata": {},
   "outputs": [],
   "source": [
    "from sklearn.model_selection import train_test_split\n",
    "X_train2,X_test2,y_train2,y_test2=train_test_split(x_values2,y_values2)"
   ]
  },
  {
   "cell_type": "code",
   "execution_count": 59,
   "id": "abb6b0d1",
   "metadata": {},
   "outputs": [
    {
     "data": {
      "text/plain": [
       "array([9.72770803])"
      ]
     },
     "execution_count": 59,
     "metadata": {},
     "output_type": "execute_result"
    }
   ],
   "source": [
    "from sklearn.linear_model import LinearRegression\n",
    "B=LinearRegression()\n",
    "model2v=B.fit(X_train2,y_train2)\n",
    "y_pred2=model2v.predict(X_test2)\n",
    "y_pred2[1]"
   ]
  },
  {
   "cell_type": "code",
   "execution_count": 60,
   "id": "e83d64f6",
   "metadata": {},
   "outputs": [
    {
     "data": {
      "text/plain": [
       "array([9.57803798])"
      ]
     },
     "execution_count": 60,
     "metadata": {},
     "output_type": "execute_result"
    }
   ],
   "source": [
    "model2v.intercept_"
   ]
  },
  {
   "cell_type": "code",
   "execution_count": 61,
   "id": "b0511cab",
   "metadata": {},
   "outputs": [
    {
     "data": {
      "text/plain": [
       "array([[0.18708756]])"
      ]
     },
     "execution_count": 61,
     "metadata": {},
     "output_type": "execute_result"
    }
   ],
   "source": [
    "model2v.coef_"
   ]
  },
  {
   "cell_type": "code",
   "execution_count": 62,
   "id": "25bfcb11",
   "metadata": {},
   "outputs": [
    {
     "data": {
      "text/html": [
       "<div>\n",
       "<style scoped>\n",
       "    .dataframe tbody tr th:only-of-type {\n",
       "        vertical-align: middle;\n",
       "    }\n",
       "\n",
       "    .dataframe tbody tr th {\n",
       "        vertical-align: top;\n",
       "    }\n",
       "\n",
       "    .dataframe thead th {\n",
       "        text-align: right;\n",
       "    }\n",
       "</style>\n",
       "<table border=\"1\" class=\"dataframe\">\n",
       "  <thead>\n",
       "    <tr style=\"text-align: right;\">\n",
       "      <th></th>\n",
       "      <th>Radio</th>\n",
       "    </tr>\n",
       "  </thead>\n",
       "  <tbody>\n",
       "    <tr>\n",
       "      <th>0</th>\n",
       "      <td>0.0</td>\n",
       "    </tr>\n",
       "    <tr>\n",
       "      <th>1</th>\n",
       "      <td>49.6</td>\n",
       "    </tr>\n",
       "  </tbody>\n",
       "</table>\n",
       "</div>"
      ],
      "text/plain": [
       "   Radio\n",
       "0    0.0\n",
       "1   49.6"
      ]
     },
     "execution_count": 62,
     "metadata": {},
     "output_type": "execute_result"
    }
   ],
   "source": [
    "o2=pd.DataFrame({'Radio':[X.Radio.min(),X.Radio.max()]})\n",
    "o2"
   ]
  },
  {
   "cell_type": "code",
   "execution_count": 63,
   "id": "9620932e",
   "metadata": {},
   "outputs": [],
   "source": [
    "o2_pred=model2v.predict(o2)"
   ]
  },
  {
   "cell_type": "code",
   "execution_count": 64,
   "id": "2acc4c0c",
   "metadata": {},
   "outputs": [
    {
     "data": {
      "text/plain": [
       "[<matplotlib.lines.Line2D at 0x16e922b8460>]"
      ]
     },
     "execution_count": 64,
     "metadata": {},
     "output_type": "execute_result"
    },
    {
     "data": {
      "image/png": "[encoded data removed]",
      "text/plain": [
       "<Figure size 432x288 with 1 Axes>"
      ]
     },
     "metadata": {
      "needs_background": "light"
     },
     "output_type": "display_data"
    }
   ],
   "source": [
    "X.plot(kind='scatter',x='Radio',y='Sales')\n",
    "plt.plot(o2,o2_pred,color='green')\n"
   ]
  },
  {
   "cell_type": "code",
   "execution_count": 65,
   "id": "9fa5b115",
   "metadata": {},
   "outputs": [
    {
     "data": {
      "text/plain": [
       "Intercept    9.127239e-01\n",
       "Sales        4.354966e-19\n",
       "dtype: float64"
      ]
     },
     "execution_count": 65,
     "metadata": {},
     "output_type": "execute_result"
    }
   ],
   "source": [
    "import statsmodels.formula.api as smf\n",
    "stats2model=smf.ols(formula='Radio ~ Sales',data=X).fit()\n",
    "stats2model.pvalues"
   ]
  },
  {
   "cell_type": "code",
   "execution_count": 66,
   "id": "1b05b714",
   "metadata": {},
   "outputs": [
    {
     "data": {
      "text/html": [
       "<table class=\"simpletable\">\n",
       "<caption>OLS Regression Results</caption>\n",
       "<tr>\n",
       "  <th>Dep. Variable:</th>          <td>Radio</td>      <th>  R-squared:         </th> <td>   0.332</td>\n",
       "</tr>\n",
       "<tr>\n",
       "  <th>Model:</th>                   <td>OLS</td>       <th>  Adj. R-squared:    </th> <td>   0.329</td>\n",
       "</tr>\n",
       "<tr>\n",
       "  <th>Method:</th>             <td>Least Squares</td>  <th>  F-statistic:       </th> <td>   98.42</td>\n",
       "</tr>\n",
       "<tr>\n",
       "  <th>Date:</th>             <td>Mon, 02 May 2022</td> <th>  Prob (F-statistic):</th> <td>4.35e-19</td>\n",
       "</tr>\n",
       "<tr>\n",
       "  <th>Time:</th>                 <td>08:15:56</td>     <th>  Log-Likelihood:    </th> <td> -782.49</td>\n",
       "</tr>\n",
       "<tr>\n",
       "  <th>No. Observations:</th>      <td>   200</td>      <th>  AIC:               </th> <td>   1569.</td>\n",
       "</tr>\n",
       "<tr>\n",
       "  <th>Df Residuals:</th>          <td>   198</td>      <th>  BIC:               </th> <td>   1576.</td>\n",
       "</tr>\n",
       "<tr>\n",
       "  <th>Df Model:</th>              <td>     1</td>      <th>                     </th>     <td> </td>   \n",
       "</tr>\n",
       "<tr>\n",
       "  <th>Covariance Type:</th>      <td>nonrobust</td>    <th>                     </th>     <td> </td>   \n",
       "</tr>\n",
       "</table>\n",
       "<table class=\"simpletable\">\n",
       "<tr>\n",
       "      <td></td>         <th>coef</th>     <th>std err</th>      <th>t</th>      <th>P>|t|</th>  <th>[0.025</th>    <th>0.975]</th>  \n",
       "</tr>\n",
       "<tr>\n",
       "  <th>Intercept</th> <td>    0.2713</td> <td>    2.472</td> <td>    0.110</td> <td> 0.913</td> <td>   -4.604</td> <td>    5.146</td>\n",
       "</tr>\n",
       "<tr>\n",
       "  <th>Sales</th>     <td>    1.6397</td> <td>    0.165</td> <td>    9.921</td> <td> 0.000</td> <td>    1.314</td> <td>    1.966</td>\n",
       "</tr>\n",
       "</table>\n",
       "<table class=\"simpletable\">\n",
       "<tr>\n",
       "  <th>Omnibus:</th>       <td>15.769</td> <th>  Durbin-Watson:     </th> <td>   1.980</td>\n",
       "</tr>\n",
       "<tr>\n",
       "  <th>Prob(Omnibus):</th> <td> 0.000</td> <th>  Jarque-Bera (JB):  </th> <td>  17.838</td>\n",
       "</tr>\n",
       "<tr>\n",
       "  <th>Skew:</th>          <td> 0.732</td> <th>  Prob(JB):          </th> <td>0.000134</td>\n",
       "</tr>\n",
       "<tr>\n",
       "  <th>Kurtosis:</th>      <td> 2.991</td> <th>  Cond. No.          </th> <td>    43.2</td>\n",
       "</tr>\n",
       "</table><br/><br/>Notes:<br/>[1] Standard Errors assume that the covariance matrix of the errors is correctly specified."
      ],
      "text/plain": [
       "<class 'statsmodels.iolib.summary.Summary'>\n",
       "\"\"\"\n",
       "                            OLS Regression Results                            \n",
       "==============================================================================\n",
       "Dep. Variable:                  Radio   R-squared:                       0.332\n",
       "Model:                            OLS   Adj. R-squared:                  0.329\n",
       "Method:                 Least Squares   F-statistic:                     98.42\n",
       "Date:                Mon, 02 May 2022   Prob (F-statistic):           4.35e-19\n",
       "Time:                        08:15:56   Log-Likelihood:                -782.49\n",
       "No. Observations:                 200   AIC:                             1569.\n",
       "Df Residuals:                     198   BIC:                             1576.\n",
       "Df Model:                           1                                         \n",
       "Covariance Type:            nonrobust                                         \n",
       "==============================================================================\n",
       "                 coef    std err          t      P>|t|      [0.025      0.975]\n",
       "------------------------------------------------------------------------------\n",
       "Intercept      0.2713      2.472      0.110      0.913      -4.604       5.146\n",
       "Sales          1.6397      0.165      9.921      0.000       1.314       1.966\n",
       "==============================================================================\n",
       "Omnibus:                       15.769   Durbin-Watson:                   1.980\n",
       "Prob(Omnibus):                  0.000   Jarque-Bera (JB):               17.838\n",
       "Skew:                           0.732   Prob(JB):                     0.000134\n",
       "Kurtosis:                       2.991   Cond. No.                         43.2\n",
       "==============================================================================\n",
       "\n",
       "Notes:\n",
       "[1] Standard Errors assume that the covariance matrix of the errors is correctly specified.\n",
       "\"\"\""
      ]
     },
     "execution_count": 66,
     "metadata": {},
     "output_type": "execute_result"
    }
   ],
   "source": [
    "stats2model.summary()"
   ]
  },
  {
   "cell_type": "markdown",
   "id": "4020f1b6",
   "metadata": {},
   "source": [
    "### H0 : There is no relationship between independent(TV) variable and dependent(sales) variable\n",
    "### H1 : There is a relationship between independent(TV) variable and dependent(Sales) variable"
   ]
  },
  {
   "cell_type": "code",
   "execution_count": 67,
   "id": "02607e2e",
   "metadata": {},
   "outputs": [
    {
     "data": {
      "text/plain": [
       "array([9.72770803])"
      ]
     },
     "execution_count": 67,
     "metadata": {},
     "output_type": "execute_result"
    }
   ],
   "source": [
    "stats2_pred=model2v.predict(X_test2)\n",
    "stats2_pred[1]"
   ]
  },
  {
   "cell_type": "code",
   "execution_count": 68,
   "id": "c080b5cb",
   "metadata": {},
   "outputs": [],
   "source": [
    "from sklearn.metrics import mean_absolute_error,mean_squared_error"
   ]
  },
  {
   "cell_type": "code",
   "execution_count": 69,
   "id": "dcf44c3d",
   "metadata": {},
   "outputs": [
    {
     "data": {
      "text/plain": [
       "17.691379755402217"
      ]
     },
     "execution_count": 69,
     "metadata": {},
     "output_type": "execute_result"
    }
   ],
   "source": [
    "MSE_2=mean_squared_error(stats2_pred,y_test2)\n",
    "MSE_2"
   ]
  },
  {
   "cell_type": "code",
   "execution_count": 70,
   "id": "74aa67a6",
   "metadata": {},
   "outputs": [
    {
     "data": {
      "text/plain": [
       "3.3294108885123608"
      ]
     },
     "execution_count": 70,
     "metadata": {},
     "output_type": "execute_result"
    }
   ],
   "source": [
    "MAE_2=mean_absolute_error(stats2_pred,y_test2)\n",
    "MAE_2"
   ]
  },
  {
   "cell_type": "code",
   "execution_count": 71,
   "id": "4db06390",
   "metadata": {},
   "outputs": [
    {
     "data": {
      "text/plain": [
       "4.2061121900636715"
      ]
     },
     "execution_count": 71,
     "metadata": {},
     "output_type": "execute_result"
    }
   ],
   "source": [
    "RMSE_2=np.sqrt(MSE_2)\n",
    "RMSE_2"
   ]
  },
  {
   "cell_type": "code",
   "execution_count": 72,
   "id": "20a31e85",
   "metadata": {},
   "outputs": [
    {
     "data": {
      "text/plain": [
       "0.41334389799883253"
      ]
     },
     "execution_count": 72,
     "metadata": {},
     "output_type": "execute_result"
    }
   ],
   "source": [
    "R_SQUARE_2=model2v.score(X_test2,y_test2)\n",
    "R_SQUARE_2"
   ]
  },
  {
   "cell_type": "code",
   "execution_count": 73,
   "id": "e4e602de",
   "metadata": {},
   "outputs": [
    {
     "data": {
      "text/plain": [
       "0.41038098839276604"
      ]
     },
     "execution_count": 73,
     "metadata": {},
     "output_type": "execute_result"
    }
   ],
   "source": [
    "ADJ_R_2=1-(1-R_SQUARE_2)*(len(y_values2)-1)/(len(y_values2)-x_values2.shape[1]-1)\n",
    "ADJ_R_2"
   ]
  },
  {
   "cell_type": "code",
   "execution_count": null,
   "id": "40b0f17b",
   "metadata": {},
   "outputs": [],
   "source": []
  },
  {
   "cell_type": "code",
   "execution_count": null,
   "id": "b0af0d15",
   "metadata": {},
   "outputs": [],
   "source": []
  },
  {
   "cell_type": "code",
   "execution_count": null,
   "id": "ae7b4359",
   "metadata": {},
   "outputs": [],
   "source": []
  },
  {
   "cell_type": "code",
   "execution_count": null,
   "id": "48a8e5f2",
   "metadata": {},
   "outputs": [],
   "source": []
  },
  {
   "cell_type": "code",
   "execution_count": 74,
   "id": "edb28b95",
   "metadata": {},
   "outputs": [],
   "source": [
    "x_values3=X[['Newspaper']].values\n",
    "y_values3=X[['Sales']].values"
   ]
  },
  {
   "cell_type": "code",
   "execution_count": 75,
   "id": "89f2983e",
   "metadata": {},
   "outputs": [],
   "source": [
    "from sklearn.model_selection import train_test_split\n",
    "X_train3,X_test3,y_train3,y_test3=train_test_split(x_values3,y_values3)"
   ]
  },
  {
   "cell_type": "code",
   "execution_count": 76,
   "id": "513dd434",
   "metadata": {},
   "outputs": [
    {
     "data": {
      "text/plain": [
       "array([12.71051342])"
      ]
     },
     "execution_count": 76,
     "metadata": {},
     "output_type": "execute_result"
    }
   ],
   "source": [
    "from sklearn.linear_model import LinearRegression\n",
    "C=LinearRegression()\n",
    "model3v=C.fit(X_train3,y_train3)\n",
    "y_pred3=model3v.predict(X_test3)\n",
    "y_pred3[1]"
   ]
  },
  {
   "cell_type": "code",
   "execution_count": 77,
   "id": "d932c960",
   "metadata": {},
   "outputs": [
    {
     "data": {
      "text/plain": [
       "array([11.43453637])"
      ]
     },
     "execution_count": 77,
     "metadata": {},
     "output_type": "execute_result"
    }
   ],
   "source": [
    "model3v.intercept_"
   ]
  },
  {
   "cell_type": "code",
   "execution_count": 78,
   "id": "b8204c9c",
   "metadata": {},
   "outputs": [
    {
     "data": {
      "text/plain": [
       "array([[0.07686609]])"
      ]
     },
     "execution_count": 78,
     "metadata": {},
     "output_type": "execute_result"
    }
   ],
   "source": [
    "model3v.coef_"
   ]
  },
  {
   "cell_type": "code",
   "execution_count": 79,
   "id": "94bef183",
   "metadata": {},
   "outputs": [
    {
     "data": {
      "text/html": [
       "<div>\n",
       "<style scoped>\n",
       "    .dataframe tbody tr th:only-of-type {\n",
       "        vertical-align: middle;\n",
       "    }\n",
       "\n",
       "    .dataframe tbody tr th {\n",
       "        vertical-align: top;\n",
       "    }\n",
       "\n",
       "    .dataframe thead th {\n",
       "        text-align: right;\n",
       "    }\n",
       "</style>\n",
       "<table border=\"1\" class=\"dataframe\">\n",
       "  <thead>\n",
       "    <tr style=\"text-align: right;\">\n",
       "      <th></th>\n",
       "      <th>Newspaper</th>\n",
       "    </tr>\n",
       "  </thead>\n",
       "  <tbody>\n",
       "    <tr>\n",
       "      <th>0</th>\n",
       "      <td>0.3</td>\n",
       "    </tr>\n",
       "    <tr>\n",
       "      <th>1</th>\n",
       "      <td>114.0</td>\n",
       "    </tr>\n",
       "  </tbody>\n",
       "</table>\n",
       "</div>"
      ],
      "text/plain": [
       "   Newspaper\n",
       "0        0.3\n",
       "1      114.0"
      ]
     },
     "execution_count": 79,
     "metadata": {},
     "output_type": "execute_result"
    }
   ],
   "source": [
    "o3=pd.DataFrame({'Newspaper':[X.Newspaper.min(),X.Newspaper.max()]})\n",
    "o3"
   ]
  },
  {
   "cell_type": "code",
   "execution_count": 80,
   "id": "52e4b5a8",
   "metadata": {},
   "outputs": [],
   "source": [
    "o3_pred=model3v.predict(o3)"
   ]
  },
  {
   "cell_type": "code",
   "execution_count": 81,
   "id": "7f85d4cb",
   "metadata": {},
   "outputs": [
    {
     "data": {
      "text/plain": [
       "[<matplotlib.lines.Line2D at 0x16e925146d0>]"
      ]
     },
     "execution_count": 81,
     "metadata": {},
     "output_type": "execute_result"
    },
    {
     "data": {
      "image/png": "[encoded data removed]",
      "text/plain": [
       "<Figure size 432x288 with 1 Axes>"
      ]
     },
     "metadata": {
      "needs_background": "light"
     },
     "output_type": "display_data"
    }
   ],
   "source": [
    "X.plot(kind='scatter',x='Newspaper',y='Sales')\n",
    "plt.plot(o3,o3_pred,color='orange')"
   ]
  },
  {
   "cell_type": "code",
   "execution_count": 82,
   "id": "473b48b4",
   "metadata": {},
   "outputs": [
    {
     "data": {
      "text/plain": [
       "Intercept    0.000097\n",
       "Sales        0.001148\n",
       "dtype: float64"
      ]
     },
     "execution_count": 82,
     "metadata": {},
     "output_type": "execute_result"
    }
   ],
   "source": [
    "import statsmodels.formula.api as smf\n",
    "stats3model=smf.ols(formula='Newspaper ~ Sales',data=X).fit()\n",
    "stats3model.pvalues"
   ]
  },
  {
   "cell_type": "code",
   "execution_count": 83,
   "id": "aaabafe3",
   "metadata": {},
   "outputs": [
    {
     "data": {
      "text/html": [
       "<table class=\"simpletable\">\n",
       "<caption>OLS Regression Results</caption>\n",
       "<tr>\n",
       "  <th>Dep. Variable:</th>        <td>Newspaper</td>    <th>  R-squared:         </th> <td>   0.052</td>\n",
       "</tr>\n",
       "<tr>\n",
       "  <th>Model:</th>                   <td>OLS</td>       <th>  Adj. R-squared:    </th> <td>   0.047</td>\n",
       "</tr>\n",
       "<tr>\n",
       "  <th>Method:</th>             <td>Least Squares</td>  <th>  F-statistic:       </th> <td>   10.89</td>\n",
       "</tr>\n",
       "<tr>\n",
       "  <th>Date:</th>             <td>Mon, 02 May 2022</td> <th>  Prob (F-statistic):</th>  <td>0.00115</td>\n",
       "</tr>\n",
       "<tr>\n",
       "  <th>Time:</th>                 <td>08:15:56</td>     <th>  Log-Likelihood:    </th> <td> -894.12</td>\n",
       "</tr>\n",
       "<tr>\n",
       "  <th>No. Observations:</th>      <td>   200</td>      <th>  AIC:               </th> <td>   1792.</td>\n",
       "</tr>\n",
       "<tr>\n",
       "  <th>Df Residuals:</th>          <td>   198</td>      <th>  BIC:               </th> <td>   1799.</td>\n",
       "</tr>\n",
       "<tr>\n",
       "  <th>Df Model:</th>              <td>     1</td>      <th>                     </th>     <td> </td>   \n",
       "</tr>\n",
       "<tr>\n",
       "  <th>Covariance Type:</th>      <td>nonrobust</td>    <th>                     </th>     <td> </td>   \n",
       "</tr>\n",
       "</table>\n",
       "<table class=\"simpletable\">\n",
       "<tr>\n",
       "      <td></td>         <th>coef</th>     <th>std err</th>      <th>t</th>      <th>P>|t|</th>  <th>[0.025</th>    <th>0.975]</th>  \n",
       "</tr>\n",
       "<tr>\n",
       "  <th>Intercept</th> <td>   17.1911</td> <td>    4.320</td> <td>    3.980</td> <td> 0.000</td> <td>    8.672</td> <td>   25.710</td>\n",
       "</tr>\n",
       "<tr>\n",
       "  <th>Sales</th>     <td>    0.9530</td> <td>    0.289</td> <td>    3.300</td> <td> 0.001</td> <td>    0.383</td> <td>    1.523</td>\n",
       "</tr>\n",
       "</table>\n",
       "<table class=\"simpletable\">\n",
       "<tr>\n",
       "  <th>Omnibus:</th>       <td>24.387</td> <th>  Durbin-Watson:     </th> <td>   1.882</td>\n",
       "</tr>\n",
       "<tr>\n",
       "  <th>Prob(Omnibus):</th> <td> 0.000</td> <th>  Jarque-Bera (JB):  </th> <td>  29.955</td>\n",
       "</tr>\n",
       "<tr>\n",
       "  <th>Skew:</th>          <td> 0.834</td> <th>  Prob(JB):          </th> <td>3.13e-07</td>\n",
       "</tr>\n",
       "<tr>\n",
       "  <th>Kurtosis:</th>      <td> 3.902</td> <th>  Cond. No.          </th> <td>    43.2</td>\n",
       "</tr>\n",
       "</table><br/><br/>Notes:<br/>[1] Standard Errors assume that the covariance matrix of the errors is correctly specified."
      ],
      "text/plain": [
       "<class 'statsmodels.iolib.summary.Summary'>\n",
       "\"\"\"\n",
       "                            OLS Regression Results                            \n",
       "==============================================================================\n",
       "Dep. Variable:              Newspaper   R-squared:                       0.052\n",
       "Model:                            OLS   Adj. R-squared:                  0.047\n",
       "Method:                 Least Squares   F-statistic:                     10.89\n",
       "Date:                Mon, 02 May 2022   Prob (F-statistic):            0.00115\n",
       "Time:                        08:15:56   Log-Likelihood:                -894.12\n",
       "No. Observations:                 200   AIC:                             1792.\n",
       "Df Residuals:                     198   BIC:                             1799.\n",
       "Df Model:                           1                                         \n",
       "Covariance Type:            nonrobust                                         \n",
       "==============================================================================\n",
       "                 coef    std err          t      P>|t|      [0.025      0.975]\n",
       "------------------------------------------------------------------------------\n",
       "Intercept     17.1911      4.320      3.980      0.000       8.672      25.710\n",
       "Sales          0.9530      0.289      3.300      0.001       0.383       1.523\n",
       "==============================================================================\n",
       "Omnibus:                       24.387   Durbin-Watson:                   1.882\n",
       "Prob(Omnibus):                  0.000   Jarque-Bera (JB):               29.955\n",
       "Skew:                           0.834   Prob(JB):                     3.13e-07\n",
       "Kurtosis:                       3.902   Cond. No.                         43.2\n",
       "==============================================================================\n",
       "\n",
       "Notes:\n",
       "[1] Standard Errors assume that the covariance matrix of the errors is correctly specified.\n",
       "\"\"\""
      ]
     },
     "execution_count": 83,
     "metadata": {},
     "output_type": "execute_result"
    }
   ],
   "source": [
    "stats3model.summary()"
   ]
  },
  {
   "cell_type": "code",
   "execution_count": 84,
   "id": "7f892776",
   "metadata": {},
   "outputs": [
    {
     "data": {
      "text/plain": [
       "array([12.71051342])"
      ]
     },
     "execution_count": 84,
     "metadata": {},
     "output_type": "execute_result"
    }
   ],
   "source": [
    "stats3_pred=model3v.predict(X_test3)\n",
    "stats3_pred[1]"
   ]
  },
  {
   "cell_type": "code",
   "execution_count": 85,
   "id": "9e2a9280",
   "metadata": {},
   "outputs": [],
   "source": [
    "from sklearn.metrics import mean_squared_error,mean_absolute_error"
   ]
  },
  {
   "cell_type": "code",
   "execution_count": 86,
   "id": "25108b50",
   "metadata": {},
   "outputs": [
    {
     "data": {
      "text/plain": [
       "3.8892062586587333"
      ]
     },
     "execution_count": 86,
     "metadata": {},
     "output_type": "execute_result"
    }
   ],
   "source": [
    "MAE_3=mean_absolute_error(y_test3,stats3_pred)\n",
    "MAE_3"
   ]
  },
  {
   "cell_type": "code",
   "execution_count": 87,
   "id": "3b4cc498",
   "metadata": {},
   "outputs": [
    {
     "data": {
      "text/plain": [
       "23.90751604901559"
      ]
     },
     "execution_count": 87,
     "metadata": {},
     "output_type": "execute_result"
    }
   ],
   "source": [
    "MSE_3=mean_squared_error(y_test3,stats3_pred)\n",
    "MSE_3"
   ]
  },
  {
   "cell_type": "code",
   "execution_count": 88,
   "id": "9e11531b",
   "metadata": {},
   "outputs": [
    {
     "data": {
      "text/plain": [
       "4.889531270890451"
      ]
     },
     "execution_count": 88,
     "metadata": {},
     "output_type": "execute_result"
    }
   ],
   "source": [
    "RMSE_3=np.sqrt(MSE_3)\n",
    "RMSE_3"
   ]
  },
  {
   "cell_type": "code",
   "execution_count": 89,
   "id": "ff9444ce",
   "metadata": {},
   "outputs": [
    {
     "data": {
      "text/plain": [
       "-0.22059924165983147"
      ]
     },
     "execution_count": 89,
     "metadata": {},
     "output_type": "execute_result"
    }
   ],
   "source": [
    "R_SQUARE_3=model3v.score(X_test3,y_test3)\n",
    "R_SQUARE_3"
   ]
  },
  {
   "cell_type": "code",
   "execution_count": 90,
   "id": "9dbbc62e",
   "metadata": {},
   "outputs": [
    {
     "data": {
      "text/plain": [
       "-0.22676388429447702"
      ]
     },
     "execution_count": 90,
     "metadata": {},
     "output_type": "execute_result"
    }
   ],
   "source": [
    "ADJ_R_3=1-(1-R_SQUARE_3)*(len(y_values3)-1)/(len(y_values3)-x_values3.shape[1]-1)\n",
    "ADJ_R_3"
   ]
  },
  {
   "cell_type": "code",
   "execution_count": null,
   "id": "3ad24e2f",
   "metadata": {},
   "outputs": [],
   "source": []
  },
  {
   "cell_type": "code",
   "execution_count": null,
   "id": "252ceb70",
   "metadata": {},
   "outputs": [],
   "source": []
  },
  {
   "cell_type": "code",
   "execution_count": null,
   "id": "5e0d2070",
   "metadata": {},
   "outputs": [],
   "source": []
  },
  {
   "cell_type": "code",
   "execution_count": 91,
   "id": "94d6da2c",
   "metadata": {},
   "outputs": [],
   "source": [
    "R1=['TV',MAE,MSE,RMSE,r_square,Adjusted_r2]   #TV\n",
    "R2=['RADIO',MAEr,MSEr,rmser,r_squarer,adj_r_square_for_radio]   #RADIO\n",
    "R3=['NEWSPAPER',MAE_N,MSE_N,RMSE_N,r_squaren,ADJ_Rn]     #NEWSPAPER"
   ]
  },
  {
   "cell_type": "code",
   "execution_count": 92,
   "id": "8ff48744",
   "metadata": {
    "scrolled": true
   },
   "outputs": [
    {
     "data": {
      "text/plain": [
       "array([['TV', 'RADIO', 'NEWSPAPER'],\n",
       "       ['2.549806038927487', '3.320218797642066', '4.1465597438384885'],\n",
       "       ['10.512652915656753', '18.09239774512544', '25.674022720559698'],\n",
       "       ['3.2423221486546883', '4.2535159274564185', '5.066953988399707'],\n",
       "       ['0.6118750508500712', '0.33203245544529536',\n",
       "        '0.05212044544430516'],\n",
       "       ['0.6079346960363663', '0.32525105905387697',\n",
       "        '0.04249730275846053']], dtype='<U32')"
      ]
     },
     "execution_count": 92,
     "metadata": {},
     "output_type": "execute_result"
    }
   ],
   "source": [
    "ROLS=[R1,R2,R3]\n",
    "\n",
    "ROLS1=np.transpose(ROLS)\n",
    "ROLS1"
   ]
  },
  {
   "cell_type": "code",
   "execution_count": 93,
   "id": "7cbba709",
   "metadata": {},
   "outputs": [],
   "source": [
    "r1=['TV',MAE_1,MSE_1,RMSE_1,R_SQUARE_1,ADJ_R_1]\n",
    "r2=['RADIO',MAE_2,MSE_2,RMSE_2,R_SQUARE_2,ADJ_R_2]\n",
    "r3=['NEWSPAPER',MAE_3,MSE_3,RMSE_3,R_SQUARE_3,ADJ_R_3]\n"
   ]
  },
  {
   "cell_type": "code",
   "execution_count": 94,
   "id": "e6149edf",
   "metadata": {},
   "outputs": [
    {
     "data": {
      "text/plain": [
       "array([['TV', 'RADIO', 'NEWSPAPER'],\n",
       "       ['2.469197684055691', '3.3294108885123608', '3.8892062586587333'],\n",
       "       ['9.503191696866343', '17.691379755402217', '23.90751604901559'],\n",
       "       ['3.0827247196054244', '4.2061121900636715', '4.889531270890451'],\n",
       "       ['0.5600153407297688', '0.41334389799883253',\n",
       "        '-0.22059924165983147'],\n",
       "       ['0.5577931959859797', '0.41038098839276604',\n",
       "        '-0.22676388429447702']], dtype='<U32')"
      ]
     },
     "execution_count": 94,
     "metadata": {},
     "output_type": "execute_result"
    }
   ],
   "source": [
    "RSKL=[r1,r2,r3]\n",
    "RSKL1=np.transpose(RSKL)\n",
    "RSKL1"
   ]
  },
  {
   "cell_type": "code",
   "execution_count": 95,
   "id": "86bfc278",
   "metadata": {},
   "outputs": [
    {
     "data": {
      "text/html": [
       "<div>\n",
       "<style scoped>\n",
       "    .dataframe tbody tr th:only-of-type {\n",
       "        vertical-align: middle;\n",
       "    }\n",
       "\n",
       "    .dataframe tbody tr th {\n",
       "        vertical-align: top;\n",
       "    }\n",
       "\n",
       "    .dataframe thead th {\n",
       "        text-align: right;\n",
       "    }\n",
       "</style>\n",
       "<table border=\"1\" class=\"dataframe\">\n",
       "  <thead>\n",
       "    <tr style=\"text-align: right;\">\n",
       "      <th></th>\n",
       "      <th></th>\n",
       "      <th>SKLEARN</th>\n",
       "      <th></th>\n",
       "    </tr>\n",
       "  </thead>\n",
       "  <tbody>\n",
       "    <tr>\n",
       "      <th></th>\n",
       "      <td>TV</td>\n",
       "      <td>RADIO</td>\n",
       "      <td>NEWSPAPER</td>\n",
       "    </tr>\n",
       "    <tr>\n",
       "      <th>MAE</th>\n",
       "      <td>2.469197684055691</td>\n",
       "      <td>3.3294108885123608</td>\n",
       "      <td>3.8892062586587333</td>\n",
       "    </tr>\n",
       "    <tr>\n",
       "      <th>MSE</th>\n",
       "      <td>9.503191696866343</td>\n",
       "      <td>17.691379755402217</td>\n",
       "      <td>23.90751604901559</td>\n",
       "    </tr>\n",
       "    <tr>\n",
       "      <th>RMSE</th>\n",
       "      <td>3.0827247196054244</td>\n",
       "      <td>4.2061121900636715</td>\n",
       "      <td>4.889531270890451</td>\n",
       "    </tr>\n",
       "    <tr>\n",
       "      <th>R SQUARE</th>\n",
       "      <td>0.5600153407297688</td>\n",
       "      <td>0.41334389799883253</td>\n",
       "      <td>-0.22059924165983147</td>\n",
       "    </tr>\n",
       "    <tr>\n",
       "      <th>ADJ R SQUARE</th>\n",
       "      <td>0.5577931959859797</td>\n",
       "      <td>0.41038098839276604</td>\n",
       "      <td>-0.22676388429447702</td>\n",
       "    </tr>\n",
       "  </tbody>\n",
       "</table>\n",
       "</div>"
      ],
      "text/plain": [
       "                                              SKLEARN                      \n",
       "                              TV                RADIO             NEWSPAPER\n",
       "MAE            2.469197684055691   3.3294108885123608    3.8892062586587333\n",
       "MSE            9.503191696866343   17.691379755402217     23.90751604901559\n",
       "RMSE          3.0827247196054244   4.2061121900636715     4.889531270890451\n",
       "R SQUARE      0.5600153407297688  0.41334389799883253  -0.22059924165983147\n",
       "ADJ R SQUARE  0.5577931959859797  0.41038098839276604  -0.22676388429447702"
      ]
     },
     "execution_count": 95,
     "metadata": {},
     "output_type": "execute_result"
    }
   ],
   "source": [
    "nn=pd.DataFrame(RSKL1,columns=['','SKLEARN',''],index=['','MAE','MSE','RMSE','R SQUARE','ADJ R SQUARE'])\n",
    "nn"
   ]
  },
  {
   "cell_type": "code",
   "execution_count": 96,
   "id": "627829fe",
   "metadata": {},
   "outputs": [
    {
     "data": {
      "text/html": [
       "<div>\n",
       "<style scoped>\n",
       "    .dataframe tbody tr th:only-of-type {\n",
       "        vertical-align: middle;\n",
       "    }\n",
       "\n",
       "    .dataframe tbody tr th {\n",
       "        vertical-align: top;\n",
       "    }\n",
       "\n",
       "    .dataframe thead th {\n",
       "        text-align: right;\n",
       "    }\n",
       "</style>\n",
       "<table border=\"1\" class=\"dataframe\">\n",
       "  <thead>\n",
       "    <tr style=\"text-align: right;\">\n",
       "      <th></th>\n",
       "      <th></th>\n",
       "      <th>OLS</th>\n",
       "      <th></th>\n",
       "    </tr>\n",
       "  </thead>\n",
       "  <tbody>\n",
       "    <tr>\n",
       "      <th></th>\n",
       "      <td>TV</td>\n",
       "      <td>RADIO</td>\n",
       "      <td>NEWSPAPER</td>\n",
       "    </tr>\n",
       "    <tr>\n",
       "      <th>MAE</th>\n",
       "      <td>2.549806038927487</td>\n",
       "      <td>3.320218797642066</td>\n",
       "      <td>4.1465597438384885</td>\n",
       "    </tr>\n",
       "    <tr>\n",
       "      <th>MSE</th>\n",
       "      <td>10.512652915656753</td>\n",
       "      <td>18.09239774512544</td>\n",
       "      <td>25.674022720559698</td>\n",
       "    </tr>\n",
       "    <tr>\n",
       "      <th>RMSE</th>\n",
       "      <td>3.2423221486546883</td>\n",
       "      <td>4.2535159274564185</td>\n",
       "      <td>5.066953988399707</td>\n",
       "    </tr>\n",
       "    <tr>\n",
       "      <th>R SQUARE</th>\n",
       "      <td>0.6118750508500712</td>\n",
       "      <td>0.33203245544529536</td>\n",
       "      <td>0.05212044544430516</td>\n",
       "    </tr>\n",
       "    <tr>\n",
       "      <th>ADJ R SQUARE</th>\n",
       "      <td>0.6079346960363663</td>\n",
       "      <td>0.32525105905387697</td>\n",
       "      <td>0.04249730275846053</td>\n",
       "    </tr>\n",
       "  </tbody>\n",
       "</table>\n",
       "</div>"
      ],
      "text/plain": [
       "                                                  OLS                     \n",
       "                              TV                RADIO            NEWSPAPER\n",
       "MAE            2.549806038927487    3.320218797642066   4.1465597438384885\n",
       "MSE           10.512652915656753    18.09239774512544   25.674022720559698\n",
       "RMSE          3.2423221486546883   4.2535159274564185    5.066953988399707\n",
       "R SQUARE      0.6118750508500712  0.33203245544529536  0.05212044544430516\n",
       "ADJ R SQUARE  0.6079346960363663  0.32525105905387697  0.04249730275846053"
      ]
     },
     "execution_count": 96,
     "metadata": {},
     "output_type": "execute_result"
    }
   ],
   "source": [
    "mm=pd.DataFrame(ROLS1,columns=['','OLS',''],index=['','MAE','MSE','RMSE','R SQUARE','ADJ R SQUARE'])\n",
    "mm"
   ]
  },
  {
   "cell_type": "code",
   "execution_count": 97,
   "id": "072feb83",
   "metadata": {},
   "outputs": [
    {
     "data": {
      "text/html": [
       "<div>\n",
       "<style scoped>\n",
       "    .dataframe tbody tr th:only-of-type {\n",
       "        vertical-align: middle;\n",
       "    }\n",
       "\n",
       "    .dataframe tbody tr th {\n",
       "        vertical-align: top;\n",
       "    }\n",
       "\n",
       "    .dataframe thead th {\n",
       "        text-align: right;\n",
       "    }\n",
       "</style>\n",
       "<table border=\"1\" class=\"dataframe\">\n",
       "  <thead>\n",
       "    <tr style=\"text-align: right;\">\n",
       "      <th></th>\n",
       "      <th></th>\n",
       "      <th>OLS</th>\n",
       "      <th></th>\n",
       "      <th></th>\n",
       "      <th>SKLEARN</th>\n",
       "      <th></th>\n",
       "    </tr>\n",
       "  </thead>\n",
       "  <tbody>\n",
       "    <tr>\n",
       "      <th></th>\n",
       "      <td>TV</td>\n",
       "      <td>RADIO</td>\n",
       "      <td>NEWSPAPER</td>\n",
       "      <td>TV</td>\n",
       "      <td>RADIO</td>\n",
       "      <td>NEWSPAPER</td>\n",
       "    </tr>\n",
       "    <tr>\n",
       "      <th>MAE</th>\n",
       "      <td>2.549806038927487</td>\n",
       "      <td>3.320218797642066</td>\n",
       "      <td>4.1465597438384885</td>\n",
       "      <td>2.469197684055691</td>\n",
       "      <td>3.3294108885123608</td>\n",
       "      <td>3.8892062586587333</td>\n",
       "    </tr>\n",
       "    <tr>\n",
       "      <th>MSE</th>\n",
       "      <td>10.512652915656753</td>\n",
       "      <td>18.09239774512544</td>\n",
       "      <td>25.674022720559698</td>\n",
       "      <td>9.503191696866343</td>\n",
       "      <td>17.691379755402217</td>\n",
       "      <td>23.90751604901559</td>\n",
       "    </tr>\n",
       "    <tr>\n",
       "      <th>RMSE</th>\n",
       "      <td>3.2423221486546883</td>\n",
       "      <td>4.2535159274564185</td>\n",
       "      <td>5.066953988399707</td>\n",
       "      <td>3.0827247196054244</td>\n",
       "      <td>4.2061121900636715</td>\n",
       "      <td>4.889531270890451</td>\n",
       "    </tr>\n",
       "    <tr>\n",
       "      <th>R SQUARE</th>\n",
       "      <td>0.6118750508500712</td>\n",
       "      <td>0.33203245544529536</td>\n",
       "      <td>0.05212044544430516</td>\n",
       "      <td>0.5600153407297688</td>\n",
       "      <td>0.41334389799883253</td>\n",
       "      <td>-0.22059924165983147</td>\n",
       "    </tr>\n",
       "    <tr>\n",
       "      <th>ADJ R SQUARE</th>\n",
       "      <td>0.6079346960363663</td>\n",
       "      <td>0.32525105905387697</td>\n",
       "      <td>0.04249730275846053</td>\n",
       "      <td>0.5577931959859797</td>\n",
       "      <td>0.41038098839276604</td>\n",
       "      <td>-0.22676388429447702</td>\n",
       "    </tr>\n",
       "  </tbody>\n",
       "</table>\n",
       "</div>"
      ],
      "text/plain": [
       "                                                  OLS                       \\\n",
       "                              TV                RADIO            NEWSPAPER   \n",
       "MAE            2.549806038927487    3.320218797642066   4.1465597438384885   \n",
       "MSE           10.512652915656753    18.09239774512544   25.674022720559698   \n",
       "RMSE          3.2423221486546883   4.2535159274564185    5.066953988399707   \n",
       "R SQUARE      0.6118750508500712  0.33203245544529536  0.05212044544430516   \n",
       "ADJ R SQUARE  0.6079346960363663  0.32525105905387697  0.04249730275846053   \n",
       "\n",
       "                                              SKLEARN                        \n",
       "                              TV                RADIO             NEWSPAPER  \n",
       "MAE            2.469197684055691   3.3294108885123608    3.8892062586587333  \n",
       "MSE            9.503191696866343   17.691379755402217     23.90751604901559  \n",
       "RMSE          3.0827247196054244   4.2061121900636715     4.889531270890451  \n",
       "R SQUARE      0.5600153407297688  0.41334389799883253  -0.22059924165983147  \n",
       "ADJ R SQUARE  0.5577931959859797  0.41038098839276604  -0.22676388429447702  "
      ]
     },
     "execution_count": 97,
     "metadata": {},
     "output_type": "execute_result"
    }
   ],
   "source": [
    "result=pd.concat([mm,nn], axis=1)\n",
    "result"
   ]
  },
  {
   "cell_type": "markdown",
   "id": "21840de1",
   "metadata": {},
   "source": [
    "# THANK YOU\n",
    "### LEARNT ALOT WHILE CREATING THE DATAFRAME AMAZING EXPERIENCE"
   ]
  },
  {
   "cell_type": "code",
   "execution_count": 98,
   "id": "ce183cef",
   "metadata": {},
   "outputs": [
    {
     "data": {
      "text/plain": [
       "['TV',\n",
       " 2.469197684055691,\n",
       " 9.503191696866343,\n",
       " 3.0827247196054244,\n",
       " 0.5600153407297688,\n",
       " 0.5577931959859797]"
      ]
     },
     "execution_count": 98,
     "metadata": {},
     "output_type": "execute_result"
    }
   ],
   "source": [
    "r1"
   ]
  },
  {
   "cell_type": "code",
   "execution_count": null,
   "id": "2933d7e9",
   "metadata": {},
   "outputs": [],
   "source": []
  }
 ],
 "metadata": {
  "kernelspec": {
   "display_name": "Python 3 (ipykernel)",
   "language": "python",
   "name": "python3"
  },
  "language_info": {
   "codemirror_mode": {
    "name": "ipython",
    "version": 3
   },
   "file_extension": ".py",
   "mimetype": "text/x-python",
   "name": "python",
   "nbconvert_exporter": "python",
   "pygments_lexer": "ipython3",
   "version": "3.9.12"
  }
 },
 "nbformat": 4,
 "nbformat_minor": 5
}
